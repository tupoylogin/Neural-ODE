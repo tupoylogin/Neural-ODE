{
 "cells": [
  {
   "cell_type": "code",
   "execution_count": 1,
   "metadata": {},
   "outputs": [
    {
     "name": "stderr",
     "output_type": "stream",
     "text": [
      "Using TensorFlow backend.\n"
     ]
    }
   ],
   "source": [
    "import keras\n",
    "import tensorflow as tf\n",
    "import numpy as np\n",
    "from keras.datasets import mnist\n",
    "import pandas as pd\n",
    "from keras.models import Model\n",
    "from keras.layers import Conv2D, Dense, Flatten, Input, MaxPooling2D, Layer\n",
    "from ode_block import ODEBlock2D, ODEWrapper"
   ]
  },
  {
   "cell_type": "code",
   "execution_count": 7,
   "metadata": {},
   "outputs": [],
   "source": [
    "from keras import backend as K\n",
    "class ResBlock(Layer):\n",
    "\n",
    "    def __init__(self, filters, kernel_size, **kwargs):\n",
    "        self.filters = filters\n",
    "        self.kernel_size = kernel_size\n",
    "        super(ResBlock, self).__init__(**kwargs)\n",
    "        \n",
    "    def build(self, input_shape):\n",
    "        self.conv2d_w1 = self.add_weight(\"conv2d_w1\", self.kernel_size + (self.filters, self.filters), initializer='glorot_uniform')\n",
    "        self.conv2d_w2 = self.add_weight(\"conv2d_w2\", self.kernel_size + (self.filters, self.filters), initializer='glorot_uniform')\n",
    "        self.conv2d_b1 = self.add_weight(\"conv2d_b1\", (self.filters,), initializer='zero')\n",
    "        self.conv2d_b2 = self.add_weight(\"conv2d_b2\", (self.filters,), initializer='zero')\n",
    "        super(ResBlock, self).build(input_shape)\n",
    "\n",
    "    def call(self, x):\n",
    "        y = K.conv2d(x, self.conv2d_w1, padding=\"same\")\n",
    "        y = K.bias_add(y, self.conv2d_b1)\n",
    "        y = K.relu(y)\n",
    "\n",
    "        y = K.conv2d(y, self.conv2d_w2, padding=\"same\")\n",
    "        y = K.bias_add(y, self.conv2d_b2)\n",
    "        y = K.relu(y)\n",
    "\n",
    "        y = y+x\n",
    "        return y\n",
    "\n",
    "    def compute_output_shape(self, input_shape):\n",
    "        return input_shape"
   ]
  },
  {
   "cell_type": "code",
   "execution_count": 3,
   "metadata": {},
   "outputs": [],
   "source": [
    "batch_size = 128\n",
    "num_classes = 10\n",
    "epochs = 10\n",
    "image_shape = (28, 28, 1)\n",
    "\n",
    "(x_train, y_train), (x_test, y_test) = mnist.load_data()\n",
    "x_train = x_train.astype('float32') / 255.0\n",
    "x_test = x_test.astype('float32') / 255.0\n",
    "\n",
    "x_train = x_train.reshape((-1,) + image_shape)\n",
    "x_test = x_test.reshape((-1,) + image_shape)\n",
    "y_train = keras.utils.to_categorical(y_train, num_classes)\n",
    "y_test  = keras.utils.to_categorical(y_test, num_classes)\n"
   ]
  },
  {
   "cell_type": "code",
   "execution_count": 8,
   "metadata": {},
   "outputs": [],
   "source": [
    "def build_model(input_shape, num_classes):\n",
    "    x = Input(input_shape)\n",
    "    y = Conv2D(32, (3, 3), activation='relu')(x)\n",
    "    y = MaxPooling2D((2,2))(y)\n",
    "    y = Conv2D(64, (3, 3), activation='relu')(y)\n",
    "    y = MaxPooling2D((2,2))(y)\n",
    "    y = ODEBlock2D(64, (3, 3))(y)\n",
    "    y = Flatten()(y)\n",
    "    y = Dense(num_classes, activation='softmax')(y)\n",
    "    return Model(x,y)"
   ]
  },
  {
   "cell_type": "code",
   "execution_count": 9,
   "metadata": {},
   "outputs": [],
   "source": [
    "def build_res_model(input_shape, num_classes):\n",
    "    x = Input(input_shape)\n",
    "    y = Conv2D(32, (3, 3), activation='relu')(x)\n",
    "    y = MaxPooling2D((2,2))(y)\n",
    "    y = Conv2D(64, (3, 3), activation='relu')(y)\n",
    "    y = MaxPooling2D((2,2))(y)\n",
    "    y = ResBlock(64, (3, 3))(y)\n",
    "    y = Flatten()(y)\n",
    "    y = Dense(num_classes, activation='softmax')(y)\n",
    "    return Model(x,y)"
   ]
  },
  {
   "cell_type": "code",
   "execution_count": 10,
   "metadata": {},
   "outputs": [],
   "source": [
    "model_res = build_res_model(image_shape, num_classes)\n",
    "\n",
    "model_res.compile(loss=keras.losses.categorical_crossentropy,\n",
    "              optimizer=keras.optimizers.Adam(),\n",
    "              metrics=['accuracy'])\n",
    "\n"
   ]
  },
  {
   "cell_type": "code",
   "execution_count": 11,
   "metadata": {},
   "outputs": [
    {
     "name": "stdout",
     "output_type": "stream",
     "text": [
      "_________________________________________________________________\n",
      "Layer (type)                 Output Shape              Param #   \n",
      "=================================================================\n",
      "input_2 (InputLayer)         (None, 28, 28, 1)         0         \n",
      "_________________________________________________________________\n",
      "conv2d_3 (Conv2D)            (None, 26, 26, 32)        320       \n",
      "_________________________________________________________________\n",
      "max_pooling2d_3 (MaxPooling2 (None, 13, 13, 32)        0         \n",
      "_________________________________________________________________\n",
      "conv2d_4 (Conv2D)            (None, 11, 11, 64)        18496     \n",
      "_________________________________________________________________\n",
      "max_pooling2d_4 (MaxPooling2 (None, 5, 5, 64)          0         \n",
      "_________________________________________________________________\n",
      "res_block_2 (ResBlock)       (None, 5, 5, 64)          73856     \n",
      "_________________________________________________________________\n",
      "flatten_1 (Flatten)          (None, 1600)              0         \n",
      "_________________________________________________________________\n",
      "dense_1 (Dense)              (None, 10)                16010     \n",
      "=================================================================\n",
      "Total params: 108,682\n",
      "Trainable params: 108,682\n",
      "Non-trainable params: 0\n",
      "_________________________________________________________________\n"
     ]
    }
   ],
   "source": [
    "model_res.summary()"
   ]
  },
  {
   "cell_type": "code",
   "execution_count": 12,
   "metadata": {},
   "outputs": [
    {
     "name": "stdout",
     "output_type": "stream",
     "text": [
      "WARNING:tensorflow:From C:\\Users\\Dmitri Androsov\\Anaconda3\\lib\\site-packages\\tensorflow\\python\\ops\\math_ops.py:3066: to_int32 (from tensorflow.python.ops.math_ops) is deprecated and will be removed in a future version.\n",
      "Instructions for updating:\n",
      "Use tf.cast instead.\n",
      "Train on 60000 samples, validate on 10000 samples\n",
      "Epoch 1/10\n",
      "60000/60000 [==============================] - 49s 809us/step - loss: 0.2119 - acc: 0.9353 - val_loss: 0.0485 - val_acc: 0.9834\n",
      "Epoch 2/10\n",
      "60000/60000 [==============================] - 45s 742us/step - loss: 0.0523 - acc: 0.9841 - val_loss: 0.0456 - val_acc: 0.9853\n",
      "Epoch 3/10\n",
      "60000/60000 [==============================] - 44s 741us/step - loss: 0.0350 - acc: 0.9892 - val_loss: 0.0269 - val_acc: 0.9913\n",
      "Epoch 4/10\n",
      "60000/60000 [==============================] - 45s 742us/step - loss: 0.0263 - acc: 0.9913 - val_loss: 0.0280 - val_acc: 0.9907\n",
      "Epoch 5/10\n",
      "60000/60000 [==============================] - 44s 741us/step - loss: 0.0213 - acc: 0.9930 - val_loss: 0.0316 - val_acc: 0.9896\n",
      "Epoch 6/10\n",
      "60000/60000 [==============================] - 44s 738us/step - loss: 0.0190 - acc: 0.9939 - val_loss: 0.0262 - val_acc: 0.9924\n",
      "Epoch 7/10\n",
      "60000/60000 [==============================] - 44s 740us/step - loss: 0.0152 - acc: 0.9950 - val_loss: 0.0302 - val_acc: 0.9896\n",
      "Epoch 8/10\n",
      "60000/60000 [==============================] - 45s 748us/step - loss: 0.0132 - acc: 0.9958 - val_loss: 0.0283 - val_acc: 0.9917\n",
      "Epoch 9/10\n",
      "60000/60000 [==============================] - 45s 743us/step - loss: 0.0098 - acc: 0.9970 - val_loss: 0.0320 - val_acc: 0.9903- ETA\n",
      "Epoch 10/10\n",
      "60000/60000 [==============================] - 45s 748us/step - loss: 0.0087 - acc: 0.9974 - val_loss: 0.0264 - val_acc: 0.9930\n",
      "Test loss: 0.026350926222638554\n",
      "Test accuracy: 0.993\n"
     ]
    }
   ],
   "source": [
    "model_res.fit(x_train, y_train,\n",
    "          batch_size=batch_size,\n",
    "          epochs=epochs,\n",
    "          verbose=1,\n",
    "          validation_data=(x_test, y_test))\n",
    "\n",
    "\n",
    "score = model_res.evaluate(x_test, y_test, verbose=0)\n",
    "print('Test loss:', score[0])\n",
    "print('Test accuracy:', score[1])"
   ]
  },
  {
   "cell_type": "code",
   "execution_count": 13,
   "metadata": {},
   "outputs": [
    {
     "name": "stdout",
     "output_type": "stream",
     "text": [
      "\n",
      "WARNING: The TensorFlow contrib module will not be included in TensorFlow 2.0.\n",
      "For more information, please see:\n",
      "  * https://github.com/tensorflow/community/blob/master/rfcs/20180907-contrib-sunset.md\n",
      "  * https://github.com/tensorflow/addons\n",
      "If you depend on functionality not listed there, please file an issue.\n",
      "\n",
      "WARNING:tensorflow:From C:\\Users\\Dmitri Androsov\\Anaconda3\\lib\\site-packages\\tensorflow\\contrib\\integrate\\python\\ops\\odes.py:233: div (from tensorflow.python.ops.math_ops) is deprecated and will be removed in a future version.\n",
      "Instructions for updating:\n",
      "Deprecated in favor of operator or tf.math.divide.\n"
     ]
    }
   ],
   "source": [
    "model = build_model(image_shape, num_classes)\n",
    "\n",
    "model.compile(loss=keras.losses.categorical_crossentropy,\n",
    "              optimizer=keras.optimizers.Adam(),\n",
    "              metrics=['accuracy'])\n"
   ]
  },
  {
   "cell_type": "code",
   "execution_count": 14,
   "metadata": {},
   "outputs": [
    {
     "name": "stdout",
     "output_type": "stream",
     "text": [
      "_________________________________________________________________\n",
      "Layer (type)                 Output Shape              Param #   \n",
      "=================================================================\n",
      "input_3 (InputLayer)         (None, 28, 28, 1)         0         \n",
      "_________________________________________________________________\n",
      "conv2d_5 (Conv2D)            (None, 26, 26, 32)        320       \n",
      "_________________________________________________________________\n",
      "max_pooling2d_5 (MaxPooling2 (None, 13, 13, 32)        0         \n",
      "_________________________________________________________________\n",
      "conv2d_6 (Conv2D)            (None, 11, 11, 64)        18496     \n",
      "_________________________________________________________________\n",
      "max_pooling2d_6 (MaxPooling2 (None, 5, 5, 64)          0         \n",
      "_________________________________________________________________\n",
      "ode_block2d_1 (ODEBlock2D)   (None, 5, 5, 64)          75008     \n",
      "_________________________________________________________________\n",
      "flatten_2 (Flatten)          (None, 1600)              0         \n",
      "_________________________________________________________________\n",
      "dense_2 (Dense)              (None, 10)                16010     \n",
      "=================================================================\n",
      "Total params: 109,834\n",
      "Trainable params: 109,834\n",
      "Non-trainable params: 0\n",
      "_________________________________________________________________\n"
     ]
    }
   ],
   "source": [
    "model.summary()"
   ]
  },
  {
   "cell_type": "code",
   "execution_count": 15,
   "metadata": {},
   "outputs": [],
   "source": [
    "def set_gpu_config(device = \"0\",fraction=0.25):\n",
    "    config = tf.ConfigProto()\n",
    "    config.gpu_options.per_process_gpu_memory_fraction = fraction\n",
    "    config.gpu_options.visible_device_list = device\n",
    "    K.set_session(tf.Session(config=config))\n",
    "\n",
    "set_gpu_config(\"0\",0.25)"
   ]
  },
  {
   "cell_type": "code",
   "execution_count": 16,
   "metadata": {},
   "outputs": [
    {
     "name": "stdout",
     "output_type": "stream",
     "text": [
      "Train on 60000 samples, validate on 10000 samples\n",
      "Epoch 1/10\n",
      "60000/60000 [==============================] - 163s 3ms/step - loss: 0.2209 - acc: 0.9334 - val_loss: 0.0503 - val_acc: 0.9852\n",
      "Epoch 2/10\n",
      "60000/60000 [==============================] - 153s 3ms/step - loss: 0.0516 - acc: 0.9844 - val_loss: 0.0383 - val_acc: 0.9867\n",
      "Epoch 3/10\n",
      "60000/60000 [==============================] - 153s 3ms/step - loss: 0.0346 - acc: 0.9894 - val_loss: 0.0295 - val_acc: 0.9907\n",
      "Epoch 4/10\n",
      "60000/60000 [==============================] - 155s 3ms/step - loss: 0.0270 - acc: 0.9914 - val_loss: 0.0260 - val_acc: 0.9912\n",
      "Epoch 5/10\n",
      "60000/60000 [==============================] - 155s 3ms/step - loss: 0.0223 - acc: 0.9929 - val_loss: 0.0332 - val_acc: 0.9892\n",
      "Epoch 6/10\n",
      "60000/60000 [==============================] - 153s 3ms/step - loss: 0.0193 - acc: 0.9939 - val_loss: 0.0285 - val_acc: 0.9907\n",
      "Epoch 7/10\n",
      "60000/60000 [==============================] - 154s 3ms/step - loss: 0.0150 - acc: 0.9952 - val_loss: 0.0234 - val_acc: 0.9922\n",
      "Epoch 8/10\n",
      "60000/60000 [==============================] - 154s 3ms/step - loss: 0.0129 - acc: 0.9956 - val_loss: 0.0305 - val_acc: 0.9899\n",
      "Epoch 9/10\n",
      "60000/60000 [==============================] - 155s 3ms/step - loss: 0.0122 - acc: 0.9959 - val_loss: 0.0345 - val_acc: 0.9904\n",
      "Epoch 10/10\n",
      "60000/60000 [==============================] - 155s 3ms/step - loss: 0.0111 - acc: 0.9965 - val_loss: 0.0291 - val_acc: 0.9914\n",
      "Test loss: 0.029084817269604536\n",
      "Test accuracy: 0.9914\n"
     ]
    }
   ],
   "source": [
    "model.fit(x_train, y_train,\n",
    "          batch_size=batch_size,\n",
    "          epochs=epochs,\n",
    "          verbose=1,\n",
    "          validation_data=(x_test, y_test))\n",
    "\n",
    "score = model.evaluate(x_test, y_test, verbose=0)\n",
    "print('Test loss:', score[0])\n",
    "print('Test accuracy:', score[1])"
   ]
  },
  {
   "cell_type": "code",
   "execution_count": null,
   "metadata": {},
   "outputs": [],
   "source": []
  }
 ],
 "metadata": {
  "kernelspec": {
   "display_name": "Python 3",
   "language": "python",
   "name": "python3"
  },
  "language_info": {
   "codemirror_mode": {
    "name": "ipython",
    "version": 3
   },
   "file_extension": ".py",
   "mimetype": "text/x-python",
   "name": "python",
   "nbconvert_exporter": "python",
   "pygments_lexer": "ipython3",
   "version": "3.6.5"
  }
 },
 "nbformat": 4,
 "nbformat_minor": 2
}
