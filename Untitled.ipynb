{
 "cells": [
  {
   "cell_type": "code",
   "execution_count": 11,
   "metadata": {},
   "outputs": [],
   "source": [
    "import numpy as np\n",
    "import numpy.random as npr\n",
    "from scipy.special import expit as sigmoid\n",
    "import pickle\n",
    "import matplotlib.pyplot as plt\n",
    "import matplotlib.image\n",
    "import tensorflow as tf\n",
    "import solver.utils as utils\n",
    "\n",
    "# ======================================================================================\n",
    "\n",
    "def get_next_val(init, t, tmin, tmax, final = None):\n",
    "\tif final is None:\n",
    "\t\treturn init\n",
    "\tval = init + (final - init) / (tmax - tmin) * t\n",
    "\treturn val\n",
    "\n",
    "\n",
    "def generate_periodic(time_steps, init_freq, init_amplitude, starting_point, \n",
    "\tfinal_freq = None, final_amplitude = None, phi_offset = 0.):\n",
    "\n",
    "\ttmin = time_steps.min()\n",
    "\ttmax = time_steps.max()\n",
    "\n",
    "\tdata = []\n",
    "\tt_prev = time_steps[0]\n",
    "\tphi = phi_offset\n",
    "\tfor t in time_steps:\n",
    "\t\tdt = t - t_prev\n",
    "\t\tamp = get_next_val(init_amplitude, t, tmin, tmax, final_amplitude)\n",
    "\t\tfreq = get_next_val(init_freq, t, tmin, tmax, final_freq)\n",
    "\t\tphi = phi + 2 * np.pi * freq * dt # integrate to get phase\n",
    "\n",
    "\t\ty = amp * np.sin(phi) + starting_point\n",
    "\t\tt_prev = t\n",
    "\t\tdata.append([t,y])\n",
    "\treturn np.array(data)\n",
    "\n",
    "def assign_value_or_sample(value, sampling_interval = [0.,1.]):\n",
    "\tif value is None:\n",
    "\t\tint_length = sampling_interval[1] - sampling_interval[0]\n",
    "\t\treturn np.random.random() * int_length + sampling_interval[0]\n",
    "\telse:\n",
    "\t\treturn value\n",
    "\n",
    "class TimeSeries:\n",
    "\tdef __init__(self):\n",
    "\t\tself.z0 = None\n",
    "\n",
    "\tdef init_visualization(self):\n",
    "\t\tself.fig = plt.figure(figsize=(10, 4), facecolor='white')\n",
    "\t\tself.ax = self.fig.add_subplot(111, frameon=False)\n",
    "\t\tplt.show(block=False)\n",
    "\n",
    "\tdef visualize(self, truth):\n",
    "\t\tself.ax.plot(truth[:,0], truth[:,1])\n",
    "\n",
    "\tdef add_noise(self, traj_list, time_steps, noise_weight):\n",
    "\t\tn_samples = traj_list.shape[0]\n",
    "\n",
    "\t\t# Add noise to all the points except the first point\n",
    "\t\tn_tp = len(time_steps) - 1\n",
    "\t\tnoise = np.random.sample((n_samples, n_tp))\n",
    "\n",
    "\t\ttraj_list_w_noise = traj_list[:]\n",
    "\t\t# Dimension [:,:,0] is a time dimension -- do not add noise to that\n",
    "\t\ttraj_list_w_noise[:,1:,0] += noise_weight * noise\n",
    "\t\treturn traj_list_w_noise\n",
    "\n",
    "\n",
    "\n",
    "class Periodic_1d(TimeSeries):\n",
    "\tdef __init__(self,\n",
    "\t\tinit_freq = 0.3, init_amplitude = 1.,\n",
    "\t\tfinal_amplitude = 10., final_freq = 1., \n",
    "\t\tz0 = 0.):\n",
    "\t\t\"\"\"\n",
    "\t\tIf some of the parameters (init_freq, init_amplitude, final_amplitude, final_freq) is not provided, it is randomly sampled.\n",
    "\t\tFor now, all the time series share the time points and the starting point.\n",
    "\t\t\"\"\"\n",
    "\t\tsuper(Periodic_1d, self).__init__()\n",
    "\t\t\n",
    "\t\tself.init_freq = init_freq\n",
    "\t\tself.init_amplitude = init_amplitude\n",
    "\t\tself.final_amplitude = final_amplitude\n",
    "\t\tself.final_freq = final_freq\n",
    "\t\tself.z0 = z0\n",
    "\n",
    "\tdef sample_traj(self, time_steps, n_samples = 1, noise_weight = 1.,\n",
    "\t\tcut_out_section = None):\n",
    "\t\t\"\"\"\n",
    "\t\tSample periodic functions. \n",
    "\t\t\"\"\"\n",
    "\t\ttraj_list = []\n",
    "\t\tfor i in range(n_samples):\n",
    "\t\t\tinit_freq = assign_value_or_sample(self.init_freq, [0.4,0.8])\n",
    "\t\t\tif self.final_freq is None:\n",
    "\t\t\t\tfinal_freq = init_freq\n",
    "\t\t\telse:\n",
    "\t\t\t\tfinal_freq = assign_value_or_sample(self.final_freq, [0.4,0.8])\n",
    "\t\t\tinit_amplitude = assign_value_or_sample(self.init_amplitude, [0.,1.])\n",
    "\t\t\tfinal_amplitude = assign_value_or_sample(self.final_amplitude, [0.,1.])\n",
    "\n",
    "\t\t\tnoisy_z0 = self.z0 + np.random.normal(loc=0., scale=0.1)\n",
    "\n",
    "\t\t\ttraj = generate_periodic(time_steps, init_freq = init_freq, \n",
    "\t\t\t\tinit_amplitude = init_amplitude, starting_point = noisy_z0, \n",
    "\t\t\t\tfinal_amplitude = final_amplitude, final_freq = final_freq)\n",
    "\n",
    "\t\t\t# Cut the time dimension\n",
    "\t\t\ttraj = np.expand_dims(traj[:,1:], 0)\n",
    "\t\t\ttraj_list.append(traj)\n",
    "\n",
    "\t\t# shape: [n_samples, n_timesteps, 2]\n",
    "\t\t# traj_list[:,:,0] -- time stamps\n",
    "\t\t# traj_list[:,:,1] -- values at the time stamps\n",
    "\t\ttraj_list = np.array(traj_list)\n",
    "\t\t#traj_list = torch.Tensor().new_tensor(traj_list, device = self.device)\n",
    "\t\ttraj_list = traj_list.squeeze(1)\n",
    "\n",
    "\t\ttraj_list = self.add_noise(traj_list, time_steps, noise_weight)\n",
    "\t\treturn traj_list"
   ]
  },
  {
   "cell_type": "code",
   "execution_count": 32,
   "metadata": {},
   "outputs": [
    {
     "data": {
      "image/png": "[encoded data removed]",
      "text/plain": [
       "<Figure size 720x288 with 1 Axes>"
      ]
     },
     "metadata": {},
     "output_type": "display_data"
    }
   ],
   "source": [
    "periodic1d = Periodic_1d()\n",
    "periodic1d.init_visualization()"
   ]
  },
  {
   "cell_type": "code",
   "execution_count": 57,
   "metadata": {},
   "outputs": [],
   "source": [
    "x = periodic1d.sample_traj(np.arange(3), 1)\n"
   ]
  },
  {
   "cell_type": "code",
   "execution_count": 58,
   "metadata": {},
   "outputs": [],
   "source": [
    "train_x, _ = utils.split_train_test(x, train_fraq = 0.8)"
   ]
  },
  {
   "cell_type": "code",
   "execution_count": 63,
   "metadata": {},
   "outputs": [
    {
     "data": {
      "text/plain": [
       "array([[[ 0.01533826],\n",
       "        [-4.33949972],\n",
       "        [-7.55241003]]])"
      ]
     },
     "execution_count": 63,
     "metadata": {},
     "output_type": "execute_result"
    }
   ],
   "source": [
    "_"
   ]
  },
  {
   "cell_type": "code",
   "execution_count": 45,
   "metadata": {},
   "outputs": [],
   "source": [
    "periodic1d.visualize(train_x)\n",
    "plt.show()"
   ]
  },
  {
   "cell_type": "code",
   "execution_count": 52,
   "metadata": {},
   "outputs": [
    {
     "data": {
      "text/plain": [
       "array([[nan]])"
      ]
     },
     "execution_count": 52,
     "metadata": {},
     "output_type": "execute_result"
    }
   ],
   "source": [
    "x[:,0]"
   ]
  },
  {
   "cell_type": "code",
   "execution_count": 64,
   "metadata": {},
   "outputs": [
    {
     "data": {
      "text/plain": [
       "array([[[ 0.01533826],\n",
       "        [-4.33949972],\n",
       "        [-7.55241003]]])"
      ]
     },
     "execution_count": 64,
     "metadata": {},
     "output_type": "execute_result"
    }
   ],
   "source": [
    "x"
   ]
  },
  {
   "cell_type": "code",
   "execution_count": null,
   "metadata": {},
   "outputs": [],
   "source": []
  }
 ],
 "metadata": {
  "kernelspec": {
   "display_name": "Python 3.7.5 64-bit ('machine-learning': conda)",
   "language": "python",
   "name": "python37564bitmachinelearningcondaa1b99042c08543deac48aeb31ff9f6e5"
  },
  "language_info": {
   "codemirror_mode": {
    "name": "ipython",
    "version": 3
   },
   "file_extension": ".py",
   "mimetype": "text/x-python",
   "name": "python",
   "nbconvert_exporter": "python",
   "pygments_lexer": "ipython3",
   "version": "3.7.5"
  }
 },
 "nbformat": 4,
 "nbformat_minor": 2
}
