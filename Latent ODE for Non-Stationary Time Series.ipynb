{
 "cells": [
  {
   "cell_type": "markdown",
   "metadata": {},
   "source": [
    "# Latent ODE модель реконструкции динамики временного ряда"
   ]
  },
  {
   "cell_type": "markdown",
   "metadata": {},
   "source": [
    "## Необходимые модули и их версии "
   ]
  },
  {
   "cell_type": "markdown",
   "metadata": {},
   "source": [
    "<ol>\n",
    "  <li>NumPy 1.18.0.</li>\n",
    "  <li>Tensorflow 2.</li>\n",
    "  <li>Tensorflow Probability.</li>\n",
    "</ol>"
   ]
  },
  {
   "cell_type": "code",
   "execution_count": 1,
   "metadata": {},
   "outputs": [],
   "source": [
    "%matplotlib inline\n",
    "import os\n",
    "\n",
    "import numpy as np\n",
    "import pandas as pd\n",
    "import timesynth as ts\n",
    "\n",
    "import tensorflow as tf\n",
    "import tensorflow_probability as tfp\n",
    "\n",
    "from solver.utils import *\n",
    "from ode_block import *\n",
    "from solver.model import RunningAverageMeter\n",
    "from solver.parse_datasets import csv_dataset\n",
    "\n",
    "import matplotlib.pyplot as plt\n",
    "import seaborn as sns \n",
    "from tqdm import tqdm"
   ]
  },
  {
   "cell_type": "markdown",
   "metadata": {},
   "source": [
    "## Создаем LatentODE VAE-сеть"
   ]
  },
  {
   "cell_type": "code",
   "execution_count": 2,
   "metadata": {},
   "outputs": [],
   "source": [
    "def construct_LatentODE(input_dim, latent_dim, rec_dims, z0_prior, observed_std, \n",
    "                        n_layers=100, n_units=200, poiss=False, adjoint=True, backwards=True,\n",
    "                        n_labels=1, classif=False, z0_solver='euler', rec_solver='euler'):\n",
    "    if poiss:\n",
    "        lambda_net = create_net(latent_dim, input_dim, n_layers=1, \n",
    "                                n_units=n_units, nonlinear=tf.keras.activations.tanh)\n",
    "        ode_func_gen = create_net(latent_dim*2, latent_dim*2, n_layers=n_layers, \n",
    "                                   n_units=n_units, nonlinear=tf.keras.activations.tanh)\n",
    "        generative_ode = LatentODEFuncPoisson(input_dim, latent_dim*2, ode_func_net=ode_func_gen, \n",
    "                                             lambda_net=lambda_net)\n",
    "    else:\n",
    "        ode_func_gen = create_net(latent_dim, latent_dim, n_layers=n_layers, \n",
    "                                   n_units=n_units, nonlinear=tf.keras.activations.tanh)\n",
    "        #print(ode_func_gen(tf.constant([[[-0.00250799]]])))\n",
    "        generative_ode = LatentODEFunc(input_dim, latent_dim, ode_func_net=ode_func_gen)\n",
    "    z0_diffeq_solver = None\n",
    "    rec_dims = rec_dims\n",
    "    enc_input_dim = input_dim\n",
    "    gen_data_dim = input_dim\n",
    "    z0_dim = latent_dim\n",
    "    if poiss:\n",
    "        z0_dim += latent_dim\n",
    "    ode_func_rec = create_net(rec_dims, rec_dims, n_layers=1, \n",
    "                                n_units=n_units, nonlinear=tf.keras.activations.tanh)\n",
    "    reconstruction_ode = LatentODEFunc(enc_input_dim, rec_dims, ode_func_net=ode_func_rec)\n",
    "    z0_diffeq_solver = DiffeqSolver(enc_input_dim, reconstruction_ode, z0_solver, latent_dim)\n",
    "    encoder_z0 = ODERNNEncoder(rec_dims, enc_input_dim, z0_diffeq_solver, z0_dim, n_gru_units=n_units,\n",
    "                               backwards_evaluation = backwards, adjoint=adjoint)\n",
    "    \n",
    "    decoder = Decoder(latent_dim, gen_data_dim)\n",
    "    dynamics_solver = DiffeqSolver(gen_data_dim, generative_ode, rec_solver, latent_dim, \n",
    "                                   odeint_rtol = 1e-3, odeint_atol = 1e-4)\n",
    "    model = LatentODEVAE(input_dim = gen_data_dim, latent_dim = latent_dim, \n",
    "                      encoder_z0 = encoder_z0, decoder = decoder, diffeq_solver = dynamics_solver, \n",
    "                      z0_prior = z0_prior, obsrv_std = observed_std, use_poisson_proc = poiss, \n",
    "                      use_binary_classif = False, linear_classifier = False,\n",
    "                      classif_per_tp = False, n_labels = n_labels, \n",
    "                      train_classif_w_reconstr = False, dynamic=True)\n",
    "    \n",
    "    return model"
   ]
  },
  {
   "cell_type": "markdown",
   "metadata": {},
   "source": [
    "## В качестве датасета используем синусоиду с добавлением белого шума "
   ]
  },
  {
   "cell_type": "code",
   "execution_count": 3,
   "metadata": {},
   "outputs": [],
   "source": [
    "sinusoid = ts.signals.Sinusoidal(frequency=0.25)\n",
    "white_noise = ts.noise.GaussianNoise(std=0.1)\n",
    "timeseries = ts.TimeSeries(sinusoid, noise_generator=white_noise)\n",
    "time_sampler = ts.TimeSampler(stop_time=25)\n",
    "irregular_time_samples = time_sampler.sample_irregular_time(num_points=1000, keep_percentage=15)\n",
    "samples, sgn, err = timeseries.sample(irregular_time_samples)\n",
    "samples=pd.DataFrame((samples+1).astype(np.float32))"
   ]
  },
  {
   "cell_type": "markdown",
   "metadata": {},
   "source": [
    "### Выберем переменный шаг дискретизации данных "
   ]
  },
  {
   "cell_type": "code",
   "execution_count": 4,
   "metadata": {},
   "outputs": [
    {
     "data": {
      "text/plain": [
       "<matplotlib.axes._subplots.AxesSubplot at 0x237f4b12308>"
      ]
     },
     "execution_count": 4,
     "metadata": {},
     "output_type": "execute_result"
    },
    {
     "data": {
      "image/png": "[encoded data removed]",
      "text/plain": [
       "<Figure size 432x288 with 1 Axes>"
      ]
     },
     "metadata": {},
     "output_type": "display_data"
    }
   ],
   "source": [
    "sns.set(style=\"whitegrid\")\n",
    "sns.scatterplot(x=irregular_time_samples, y=samples[0].values)"
   ]
  },
  {
   "cell_type": "code",
   "execution_count": 9,
   "metadata": {},
   "outputs": [
    {
     "name": "stdout",
     "output_type": "stream",
     "text": [
      "dynamic - True\n",
      "dynamic - True\n"
     ]
    }
   ],
   "source": [
    "data_obj = csv_dataset(dataset=samples, time_steps=irregular_time_samples, batch_size=50)\n",
    "input_dim = data_obj['input_dim']\n",
    "latent_dim = 6\n",
    "obs_std = 0.1\n",
    "z0_prior = tfp.distributions.Normal(loc=0., scale=1.)\n",
    "rec_dims = 20\n",
    "num_batches  = data_obj['n_train_batches']\n",
    "model_1 = construct_LatentODE(input_dim, latent_dim, rec_dims, z0_prior, obs_std, \n",
    "                        n_layers=1, n_units=100, poiss=False, \n",
    "                        n_labels=1, classif=False, adjoint=False, z0_solver='rk4', rec_solver='rk4')\n",
    "model_2 = construct_LatentODE(input_dim, latent_dim, rec_dims, z0_prior, obs_std, \n",
    "                        n_layers=1, n_units=100, poiss=True, \n",
    "                        n_labels=1, classif=False, adjoint=False, z0_solver='dopri5', rec_solver='rk4')\n",
    "model_1.compile()\n",
    "model_1.run_eagerly = True\n",
    "model_2.compile()\n",
    "model_2.run_eagerly = True\n",
    "optimizer = update_learning_rate_optimizer(tf.keras.optimizers.Adamax, initial_lr=0.01, decay_steps=1000, lowest=1e-5)\n",
    "#optimizer = tf.keras.optimizers.Adamax(lr=0.01, decay=0.1/(num_batches*200))\n",
    "#optimizer = tf.optimizers.Adam(0.01)\n",
    "loss_meter = RunningAverageMeter()\n"
   ]
  },
  {
   "cell_type": "code",
   "execution_count": 10,
   "metadata": {},
   "outputs": [],
   "source": [
    "tf.config.experimental_run_functions_eagerly(True)"
   ]
  },
  {
   "cell_type": "markdown",
   "metadata": {},
   "source": [
    "## Сеть, моделлирующая только траекторию без учета распределения временных меток "
   ]
  },
  {
   "cell_type": "code",
   "execution_count": 39,
   "metadata": {
    "collapsed": true
   },
   "outputs": [
    {
     "name": "stdout",
     "output_type": "stream",
     "text": [
      "Epoch 1:\n",
      "IWAE loss: 8.917095184326172\n",
      "log-likelihood: -7.935717582702637\n",
      "KL-divergence: 2.4534451961517334\n",
      "Epoch 2:\n",
      "IWAE loss: 8.378570556640625\n",
      "log-likelihood: -7.153036117553711\n",
      "KL-divergence: 2.451068639755249\n",
      "Epoch 3:\n",
      "IWAE loss: 1.9236931800842285\n",
      "log-likelihood: -0.4219542443752289\n",
      "KL-divergence: 2.5028979778289795\n",
      "Epoch 4:\n"
     ]
    },
    {
     "ename": "KeyboardInterrupt",
     "evalue": "",
     "output_type": "error",
     "traceback": [
      "\u001b[1;31m---------------------------------------------------------------------------\u001b[0m",
      "\u001b[1;31m_FallbackException\u001b[0m                        Traceback (most recent call last)",
      "\u001b[1;32m~\\Anaconda3\\envs\\machine-learning\\lib\\site-packages\\tensorflow\\python\\ops\\gen_array_ops.py\u001b[0m in \u001b[0;36mreshape\u001b[1;34m(tensor, shape, name)\u001b[0m\n\u001b[0;32m   8074\u001b[0m         \u001b[0m_ctx\u001b[0m\u001b[1;33m.\u001b[0m\u001b[0m_context_handle\u001b[0m\u001b[1;33m,\u001b[0m \u001b[0mtld\u001b[0m\u001b[1;33m.\u001b[0m\u001b[0mdevice_name\u001b[0m\u001b[1;33m,\u001b[0m \u001b[1;34m\"Reshape\"\u001b[0m\u001b[1;33m,\u001b[0m \u001b[0mname\u001b[0m\u001b[1;33m,\u001b[0m\u001b[1;33m\u001b[0m\u001b[1;33m\u001b[0m\u001b[0m\n\u001b[1;32m-> 8075\u001b[1;33m         tld.op_callbacks, tensor, shape)\n\u001b[0m\u001b[0;32m   8076\u001b[0m       \u001b[1;32mreturn\u001b[0m \u001b[0m_result\u001b[0m\u001b[1;33m\u001b[0m\u001b[1;33m\u001b[0m\u001b[0m\n",
      "\u001b[1;31m_FallbackException\u001b[0m: This function does not handle the case of the path where all inputs are not already EagerTensors.",
      "\nDuring handling of the above exception, another exception occurred:\n",
      "\u001b[1;31mKeyboardInterrupt\u001b[0m                         Traceback (most recent call last)",
      "\u001b[1;32m<ipython-input-39-4ae5fffa0771>\u001b[0m in \u001b[0;36m<module>\u001b[1;34m\u001b[0m\n\u001b[0;32m     11\u001b[0m                     \u001b[0mkl_coef\u001b[0m\u001b[1;33m=\u001b[0m\u001b[1;36m1\u001b[0m\u001b[1;33m\u001b[0m\u001b[1;33m\u001b[0m\u001b[0m\n\u001b[0;32m     12\u001b[0m                 \u001b[0mbatch_dict\u001b[0m \u001b[1;33m=\u001b[0m \u001b[0mget_next_batch\u001b[0m\u001b[1;33m(\u001b[0m\u001b[0mdata_obj\u001b[0m\u001b[1;33m[\u001b[0m\u001b[1;34m\"train_dataloader\"\u001b[0m\u001b[1;33m]\u001b[0m\u001b[1;33m)\u001b[0m\u001b[1;33m\u001b[0m\u001b[1;33m\u001b[0m\u001b[0m\n\u001b[1;32m---> 13\u001b[1;33m                 \u001b[0mtrain_res\u001b[0m \u001b[1;33m=\u001b[0m \u001b[0mmodel_1\u001b[0m\u001b[1;33m.\u001b[0m\u001b[0mcompute_all_losses\u001b[0m\u001b[1;33m(\u001b[0m\u001b[0mbatch_dict\u001b[0m\u001b[1;33m,\u001b[0m \u001b[0mn_traj_samples\u001b[0m \u001b[1;33m=\u001b[0m \u001b[1;36m1\u001b[0m\u001b[1;33m,\u001b[0m \u001b[0mkl_coef\u001b[0m \u001b[1;33m=\u001b[0m \u001b[0mkl_coef\u001b[0m\u001b[1;33m,\u001b[0m \u001b[0mmode\u001b[0m\u001b[1;33m=\u001b[0m\u001b[0mdata_obj\u001b[0m\u001b[1;33m[\u001b[0m\u001b[1;34m'mode'\u001b[0m\u001b[1;33m]\u001b[0m\u001b[1;33m)\u001b[0m\u001b[1;33m\u001b[0m\u001b[1;33m\u001b[0m\u001b[0m\n\u001b[0m\u001b[0;32m     14\u001b[0m                 \u001b[1;31m#rain_res[\"loss\"].backward()\u001b[0m\u001b[1;33m\u001b[0m\u001b[1;33m\u001b[0m\u001b[1;33m\u001b[0m\u001b[0m\n\u001b[0;32m     15\u001b[0m                 \u001b[1;31m#optimizer.step()\u001b[0m\u001b[1;33m\u001b[0m\u001b[1;33m\u001b[0m\u001b[1;33m\u001b[0m\u001b[0m\n",
      "\u001b[1;32m~\\Documents\\GitHub\\Neural-ODE\\solver\\model.py\u001b[0m in \u001b[0;36mcompute_all_losses\u001b[1;34m(self, batch_dict, n_traj_samples, kl_coef, mode)\u001b[0m\n\u001b[0;32m    204\u001b[0m                         \u001b[0mbatch_dict\u001b[0m\u001b[1;33m[\u001b[0m\u001b[1;34m\"observed_tp\"\u001b[0m\u001b[1;33m]\u001b[0m\u001b[1;33m,\u001b[0m\u001b[1;33m\u001b[0m\u001b[1;33m\u001b[0m\u001b[0m\n\u001b[0;32m    205\u001b[0m                         \u001b[0mn_traj_samples\u001b[0m \u001b[1;33m=\u001b[0m \u001b[0mn_traj_samples\u001b[0m\u001b[1;33m,\u001b[0m\u001b[1;33m\u001b[0m\u001b[1;33m\u001b[0m\u001b[0m\n\u001b[1;32m--> 206\u001b[1;33m                         mode = mode)\n\u001b[0m\u001b[0;32m    207\u001b[0m \u001b[1;33m\u001b[0m\u001b[0m\n\u001b[0;32m    208\u001b[0m         \u001b[0mfp_mu\u001b[0m\u001b[1;33m,\u001b[0m \u001b[0mfp_std\u001b[0m\u001b[1;33m,\u001b[0m \u001b[0mfp_enc\u001b[0m \u001b[1;33m=\u001b[0m \u001b[0minfo\u001b[0m\u001b[1;33m[\u001b[0m\u001b[1;34m'first_point'\u001b[0m\u001b[1;33m]\u001b[0m\u001b[1;33m\u001b[0m\u001b[1;33m\u001b[0m\u001b[0m\n",
      "\u001b[1;32m~\\Documents\\GitHub\\Neural-ODE\\ode_block.py\u001b[0m in \u001b[0;36mget_reconstruction\u001b[1;34m(self, time_steps_to_predict, truth, truth_time_steps, n_traj_samples, mode)\u001b[0m\n\u001b[0;32m    891\u001b[0m \u001b[1;33m\u001b[0m\u001b[0m\n\u001b[0;32m    892\u001b[0m         \u001b[1;31m# Shape of sol_y [n_traj_samples, n_samples, n_timepoints, n_latents]\u001b[0m\u001b[1;33m\u001b[0m\u001b[1;33m\u001b[0m\u001b[1;33m\u001b[0m\u001b[0m\n\u001b[1;32m--> 893\u001b[1;33m         \u001b[0msol_y\u001b[0m \u001b[1;33m=\u001b[0m \u001b[0mself\u001b[0m\u001b[1;33m.\u001b[0m\u001b[0mdiffeq_solver\u001b[0m\u001b[1;33m(\u001b[0m\u001b[0mfirst_point_enc_aug\u001b[0m\u001b[1;33m,\u001b[0m \u001b[0mtime_steps_to_predict\u001b[0m\u001b[1;33m)\u001b[0m\u001b[1;33m\u001b[0m\u001b[1;33m\u001b[0m\u001b[0m\n\u001b[0m\u001b[0;32m    894\u001b[0m \u001b[1;33m\u001b[0m\u001b[0m\n\u001b[0;32m    895\u001b[0m \u001b[1;33m\u001b[0m\u001b[0m\n",
      "\u001b[1;32m~\\Anaconda3\\envs\\machine-learning\\lib\\site-packages\\tensorflow\\python\\keras\\engine\\base_layer.py\u001b[0m in \u001b[0;36m__call__\u001b[1;34m(self, *args, **kwargs)\u001b[0m\n\u001b[0;32m    966\u001b[0m           with base_layer_utils.autocast_context_manager(\n\u001b[0;32m    967\u001b[0m               self._compute_dtype):\n\u001b[1;32m--> 968\u001b[1;33m             \u001b[0moutputs\u001b[0m \u001b[1;33m=\u001b[0m \u001b[0mself\u001b[0m\u001b[1;33m.\u001b[0m\u001b[0mcall\u001b[0m\u001b[1;33m(\u001b[0m\u001b[0mcast_inputs\u001b[0m\u001b[1;33m,\u001b[0m \u001b[1;33m*\u001b[0m\u001b[0margs\u001b[0m\u001b[1;33m,\u001b[0m \u001b[1;33m**\u001b[0m\u001b[0mkwargs\u001b[0m\u001b[1;33m)\u001b[0m\u001b[1;33m\u001b[0m\u001b[1;33m\u001b[0m\u001b[0m\n\u001b[0m\u001b[0;32m    969\u001b[0m           \u001b[0mself\u001b[0m\u001b[1;33m.\u001b[0m\u001b[0m_handle_activity_regularization\u001b[0m\u001b[1;33m(\u001b[0m\u001b[0minputs\u001b[0m\u001b[1;33m,\u001b[0m \u001b[0moutputs\u001b[0m\u001b[1;33m)\u001b[0m\u001b[1;33m\u001b[0m\u001b[1;33m\u001b[0m\u001b[0m\n\u001b[0;32m    970\u001b[0m           \u001b[0mself\u001b[0m\u001b[1;33m.\u001b[0m\u001b[0m_set_mask_metadata\u001b[0m\u001b[1;33m(\u001b[0m\u001b[0minputs\u001b[0m\u001b[1;33m,\u001b[0m \u001b[0moutputs\u001b[0m\u001b[1;33m,\u001b[0m \u001b[0minput_masks\u001b[0m\u001b[1;33m)\u001b[0m\u001b[1;33m\u001b[0m\u001b[1;33m\u001b[0m\u001b[0m\n",
      "\u001b[1;32m~\\Documents\\GitHub\\Neural-ODE\\ode_block.py\u001b[0m in \u001b[0;36mcall\u001b[1;34m(self, first_point, time_steps_to_predict, backwards, adjoint)\u001b[0m\n\u001b[0;32m    805\u001b[0m         \u001b[1;32melse\u001b[0m\u001b[1;33m:\u001b[0m\u001b[1;33m\u001b[0m\u001b[1;33m\u001b[0m\u001b[0m\n\u001b[0;32m    806\u001b[0m             pred_y = odeint(self.ode_func, first_point, time_steps_to_predict, \n\u001b[1;32m--> 807\u001b[1;33m             rtol=self.odeint_rtol, atol=self.odeint_atol, method = self.method)\n\u001b[0m\u001b[0;32m    808\u001b[0m         \u001b[1;31m#print('bef {}'.format(pred_y.shape))\u001b[0m\u001b[1;33m\u001b[0m\u001b[1;33m\u001b[0m\u001b[1;33m\u001b[0m\u001b[0m\n\u001b[0;32m    809\u001b[0m         \u001b[1;31m# shape: [n_traj_samples, n_traj, n_tp, n_dim]\u001b[0m\u001b[1;33m\u001b[0m\u001b[1;33m\u001b[0m\u001b[1;33m\u001b[0m\u001b[0m\n",
      "\u001b[1;32m~\\Documents\\GitHub\\Neural-ODE\\solver\\odeint.py\u001b[0m in \u001b[0;36modeint\u001b[1;34m(func, y0, t, rtol, atol, method, options)\u001b[0m\n\u001b[0;32m     72\u001b[0m \u001b[1;33m\u001b[0m\u001b[0m\n\u001b[0;32m     73\u001b[0m         \u001b[0msolver\u001b[0m \u001b[1;33m=\u001b[0m \u001b[0mSOLVERS\u001b[0m\u001b[1;33m[\u001b[0m\u001b[0mmethod\u001b[0m\u001b[1;33m]\u001b[0m\u001b[1;33m(\u001b[0m\u001b[0mfunc\u001b[0m\u001b[1;33m,\u001b[0m \u001b[0my0\u001b[0m\u001b[1;33m,\u001b[0m \u001b[0mrtol\u001b[0m\u001b[1;33m=\u001b[0m\u001b[0mrtol\u001b[0m\u001b[1;33m,\u001b[0m \u001b[0matol\u001b[0m\u001b[1;33m=\u001b[0m\u001b[0matol\u001b[0m\u001b[1;33m,\u001b[0m \u001b[1;33m**\u001b[0m\u001b[0moptions\u001b[0m\u001b[1;33m)\u001b[0m\u001b[1;33m\u001b[0m\u001b[1;33m\u001b[0m\u001b[0m\n\u001b[1;32m---> 74\u001b[1;33m         \u001b[0msolution\u001b[0m \u001b[1;33m=\u001b[0m \u001b[0msolver\u001b[0m\u001b[1;33m.\u001b[0m\u001b[0mintegrate\u001b[0m\u001b[1;33m(\u001b[0m\u001b[0mt\u001b[0m\u001b[1;33m)\u001b[0m\u001b[1;33m\u001b[0m\u001b[1;33m\u001b[0m\u001b[0m\n\u001b[0m\u001b[0;32m     75\u001b[0m \u001b[1;33m\u001b[0m\u001b[0m\n\u001b[0;32m     76\u001b[0m         \u001b[1;32mif\u001b[0m \u001b[0mtensor_input\u001b[0m\u001b[1;33m:\u001b[0m\u001b[1;33m\u001b[0m\u001b[1;33m\u001b[0m\u001b[0m\n",
      "\u001b[1;32m~\\Documents\\GitHub\\Neural-ODE\\solver\\solvers.py\u001b[0m in \u001b[0;36mintegrate\u001b[1;34m(self, t)\u001b[0m\n\u001b[0;32m     95\u001b[0m         \u001b[0my0\u001b[0m \u001b[1;33m=\u001b[0m \u001b[0mcast_double\u001b[0m\u001b[1;33m(\u001b[0m\u001b[0mself\u001b[0m\u001b[1;33m.\u001b[0m\u001b[0my0\u001b[0m\u001b[1;33m)\u001b[0m\u001b[1;33m\u001b[0m\u001b[1;33m\u001b[0m\u001b[0m\n\u001b[0;32m     96\u001b[0m         \u001b[1;32mfor\u001b[0m \u001b[0mt0\u001b[0m\u001b[1;33m,\u001b[0m \u001b[0mt1\u001b[0m \u001b[1;32min\u001b[0m \u001b[0mzip\u001b[0m\u001b[1;33m(\u001b[0m\u001b[0mtime_grid\u001b[0m\u001b[1;33m[\u001b[0m\u001b[1;33m:\u001b[0m\u001b[1;33m-\u001b[0m\u001b[1;36m1\u001b[0m\u001b[1;33m]\u001b[0m\u001b[1;33m,\u001b[0m \u001b[0mtime_grid\u001b[0m\u001b[1;33m[\u001b[0m\u001b[1;36m1\u001b[0m\u001b[1;33m:\u001b[0m\u001b[1;33m]\u001b[0m\u001b[1;33m)\u001b[0m\u001b[1;33m:\u001b[0m\u001b[1;33m\u001b[0m\u001b[1;33m\u001b[0m\u001b[0m\n\u001b[1;32m---> 97\u001b[1;33m             \u001b[0mdy\u001b[0m \u001b[1;33m=\u001b[0m \u001b[0mself\u001b[0m\u001b[1;33m.\u001b[0m\u001b[0mstep_func\u001b[0m\u001b[1;33m(\u001b[0m\u001b[0mself\u001b[0m\u001b[1;33m.\u001b[0m\u001b[0mfunc\u001b[0m\u001b[1;33m,\u001b[0m \u001b[0mt0\u001b[0m\u001b[1;33m,\u001b[0m \u001b[0mt1\u001b[0m \u001b[1;33m-\u001b[0m \u001b[0mt0\u001b[0m\u001b[1;33m,\u001b[0m \u001b[0my0\u001b[0m\u001b[1;33m)\u001b[0m\u001b[1;33m\u001b[0m\u001b[1;33m\u001b[0m\u001b[0m\n\u001b[0m\u001b[0;32m     98\u001b[0m             \u001b[0my1\u001b[0m \u001b[1;33m=\u001b[0m \u001b[0mtuple\u001b[0m\u001b[1;33m(\u001b[0m\u001b[0my0_\u001b[0m \u001b[1;33m+\u001b[0m \u001b[0mdy_\u001b[0m \u001b[1;32mfor\u001b[0m \u001b[0my0_\u001b[0m\u001b[1;33m,\u001b[0m \u001b[0mdy_\u001b[0m \u001b[1;32min\u001b[0m \u001b[0mzip\u001b[0m\u001b[1;33m(\u001b[0m\u001b[0my0\u001b[0m\u001b[1;33m,\u001b[0m \u001b[0mdy\u001b[0m\u001b[1;33m)\u001b[0m\u001b[1;33m)\u001b[0m\u001b[1;33m\u001b[0m\u001b[1;33m\u001b[0m\u001b[0m\n\u001b[0;32m     99\u001b[0m \u001b[1;33m\u001b[0m\u001b[0m\n",
      "\u001b[1;32m~\\Documents\\GitHub\\Neural-ODE\\solver\\misc.py\u001b[0m in \u001b[0;36mwrapper\u001b[1;34m(*args, **kwargs)\u001b[0m\n\u001b[0;32m     43\u001b[0m             \u001b[0mcast_args\u001b[0m\u001b[1;33m.\u001b[0m\u001b[0mappend\u001b[0m\u001b[1;33m(\u001b[0m\u001b[0marg\u001b[0m\u001b[1;33m)\u001b[0m\u001b[1;33m\u001b[0m\u001b[1;33m\u001b[0m\u001b[0m\n\u001b[0;32m     44\u001b[0m \u001b[1;33m\u001b[0m\u001b[0m\n\u001b[1;32m---> 45\u001b[1;33m         \u001b[0mresult\u001b[0m \u001b[1;33m=\u001b[0m \u001b[0mfunc\u001b[0m\u001b[1;33m(\u001b[0m\u001b[1;33m*\u001b[0m\u001b[0mcast_args\u001b[0m\u001b[1;33m,\u001b[0m \u001b[1;33m**\u001b[0m\u001b[0mkwargs\u001b[0m\u001b[1;33m)\u001b[0m\u001b[1;33m\u001b[0m\u001b[1;33m\u001b[0m\u001b[0m\n\u001b[0m\u001b[0;32m     46\u001b[0m         \u001b[1;32mreturn\u001b[0m \u001b[0mresult\u001b[0m\u001b[1;33m\u001b[0m\u001b[1;33m\u001b[0m\u001b[0m\n\u001b[0;32m     47\u001b[0m \u001b[1;33m\u001b[0m\u001b[0m\n",
      "\u001b[1;32m~\\Documents\\GitHub\\Neural-ODE\\solver\\fixed_grid.py\u001b[0m in \u001b[0;36mstep_func\u001b[1;34m(self, func, t, dt, y)\u001b[0m\n\u001b[0;32m     45\u001b[0m     \u001b[1;33m@\u001b[0m\u001b[0mfunc_cast_double\u001b[0m\u001b[1;33m\u001b[0m\u001b[1;33m\u001b[0m\u001b[0m\n\u001b[0;32m     46\u001b[0m     \u001b[1;32mdef\u001b[0m \u001b[0mstep_func\u001b[0m\u001b[1;33m(\u001b[0m\u001b[0mself\u001b[0m\u001b[1;33m,\u001b[0m \u001b[0mfunc\u001b[0m\u001b[1;33m,\u001b[0m \u001b[0mt\u001b[0m\u001b[1;33m,\u001b[0m \u001b[0mdt\u001b[0m\u001b[1;33m,\u001b[0m \u001b[0my\u001b[0m\u001b[1;33m)\u001b[0m\u001b[1;33m:\u001b[0m\u001b[1;33m\u001b[0m\u001b[1;33m\u001b[0m\u001b[0m\n\u001b[1;32m---> 47\u001b[1;33m         \u001b[1;32mreturn\u001b[0m \u001b[0mrk_common\u001b[0m\u001b[1;33m.\u001b[0m\u001b[0mrk4_alt_step_func\u001b[0m\u001b[1;33m(\u001b[0m\u001b[0mfunc\u001b[0m\u001b[1;33m,\u001b[0m \u001b[0mt\u001b[0m\u001b[1;33m,\u001b[0m \u001b[0mdt\u001b[0m\u001b[1;33m,\u001b[0m \u001b[0my\u001b[0m\u001b[1;33m)\u001b[0m\u001b[1;33m\u001b[0m\u001b[1;33m\u001b[0m\u001b[0m\n\u001b[0m\u001b[0;32m     48\u001b[0m \u001b[1;33m\u001b[0m\u001b[0m\n\u001b[0;32m     49\u001b[0m     \u001b[1;33m@\u001b[0m\u001b[0mproperty\u001b[0m\u001b[1;33m\u001b[0m\u001b[1;33m\u001b[0m\u001b[0m\n",
      "\u001b[1;32m~\\Documents\\GitHub\\Neural-ODE\\solver\\misc.py\u001b[0m in \u001b[0;36mwrapper\u001b[1;34m(*args, **kwargs)\u001b[0m\n\u001b[0;32m     43\u001b[0m             \u001b[0mcast_args\u001b[0m\u001b[1;33m.\u001b[0m\u001b[0mappend\u001b[0m\u001b[1;33m(\u001b[0m\u001b[0marg\u001b[0m\u001b[1;33m)\u001b[0m\u001b[1;33m\u001b[0m\u001b[1;33m\u001b[0m\u001b[0m\n\u001b[0;32m     44\u001b[0m \u001b[1;33m\u001b[0m\u001b[0m\n\u001b[1;32m---> 45\u001b[1;33m         \u001b[0mresult\u001b[0m \u001b[1;33m=\u001b[0m \u001b[0mfunc\u001b[0m\u001b[1;33m(\u001b[0m\u001b[1;33m*\u001b[0m\u001b[0mcast_args\u001b[0m\u001b[1;33m,\u001b[0m \u001b[1;33m**\u001b[0m\u001b[0mkwargs\u001b[0m\u001b[1;33m)\u001b[0m\u001b[1;33m\u001b[0m\u001b[1;33m\u001b[0m\u001b[0m\n\u001b[0m\u001b[0;32m     46\u001b[0m         \u001b[1;32mreturn\u001b[0m \u001b[0mresult\u001b[0m\u001b[1;33m\u001b[0m\u001b[1;33m\u001b[0m\u001b[0m\n\u001b[0;32m     47\u001b[0m \u001b[1;33m\u001b[0m\u001b[0m\n",
      "\u001b[1;32m~\\Documents\\GitHub\\Neural-ODE\\solver\\rk_common.py\u001b[0m in \u001b[0;36mrk4_alt_step_func\u001b[1;34m(func, t, dt, y, k1)\u001b[0m\n\u001b[0;32m     86\u001b[0m     \u001b[0mk3\u001b[0m \u001b[1;33m=\u001b[0m \u001b[0mcast_double\u001b[0m\u001b[1;33m(\u001b[0m\u001b[0mk3\u001b[0m\u001b[1;33m)\u001b[0m\u001b[1;33m\u001b[0m\u001b[1;33m\u001b[0m\u001b[0m\n\u001b[0;32m     87\u001b[0m \u001b[1;33m\u001b[0m\u001b[0m\n\u001b[1;32m---> 88\u001b[1;33m     \u001b[0mk4\u001b[0m \u001b[1;33m=\u001b[0m \u001b[0mfunc\u001b[0m\u001b[1;33m(\u001b[0m\u001b[0mt\u001b[0m \u001b[1;33m+\u001b[0m \u001b[0mdt\u001b[0m\u001b[1;33m,\u001b[0m \u001b[0mtuple\u001b[0m\u001b[1;33m(\u001b[0m\u001b[0my_\u001b[0m \u001b[1;33m+\u001b[0m \u001b[0mdt\u001b[0m \u001b[1;33m*\u001b[0m \u001b[1;33m(\u001b[0m\u001b[0mk1_\u001b[0m \u001b[1;33m-\u001b[0m \u001b[0mk2_\u001b[0m \u001b[1;33m+\u001b[0m \u001b[0mk3_\u001b[0m\u001b[1;33m)\u001b[0m \u001b[1;32mfor\u001b[0m \u001b[0my_\u001b[0m\u001b[1;33m,\u001b[0m \u001b[0mk1_\u001b[0m\u001b[1;33m,\u001b[0m \u001b[0mk2_\u001b[0m\u001b[1;33m,\u001b[0m \u001b[0mk3_\u001b[0m \u001b[1;32min\u001b[0m \u001b[0mzip\u001b[0m\u001b[1;33m(\u001b[0m\u001b[0my\u001b[0m\u001b[1;33m,\u001b[0m \u001b[0mk1\u001b[0m\u001b[1;33m,\u001b[0m \u001b[0mk2\u001b[0m\u001b[1;33m,\u001b[0m \u001b[0mk3\u001b[0m\u001b[1;33m)\u001b[0m\u001b[1;33m)\u001b[0m\u001b[1;33m)\u001b[0m\u001b[1;33m\u001b[0m\u001b[1;33m\u001b[0m\u001b[0m\n\u001b[0m\u001b[0;32m     89\u001b[0m     \u001b[0mk4\u001b[0m \u001b[1;33m=\u001b[0m \u001b[0mcast_double\u001b[0m\u001b[1;33m(\u001b[0m\u001b[0mk4\u001b[0m\u001b[1;33m)\u001b[0m\u001b[1;33m\u001b[0m\u001b[1;33m\u001b[0m\u001b[0m\n\u001b[0;32m     90\u001b[0m     \u001b[1;32mreturn\u001b[0m \u001b[0mtuple\u001b[0m\u001b[1;33m(\u001b[0m\u001b[1;33m(\u001b[0m\u001b[0mk1_\u001b[0m \u001b[1;33m+\u001b[0m \u001b[1;36m3\u001b[0m \u001b[1;33m*\u001b[0m \u001b[0mk2_\u001b[0m \u001b[1;33m+\u001b[0m \u001b[1;36m3\u001b[0m \u001b[1;33m*\u001b[0m \u001b[0mk3_\u001b[0m \u001b[1;33m+\u001b[0m \u001b[0mk4_\u001b[0m\u001b[1;33m)\u001b[0m \u001b[1;33m*\u001b[0m \u001b[1;33m(\u001b[0m\u001b[0mdt\u001b[0m \u001b[1;33m/\u001b[0m \u001b[1;36m8\u001b[0m\u001b[1;33m)\u001b[0m \u001b[1;32mfor\u001b[0m \u001b[0mk1_\u001b[0m\u001b[1;33m,\u001b[0m \u001b[0mk2_\u001b[0m\u001b[1;33m,\u001b[0m \u001b[0mk3_\u001b[0m\u001b[1;33m,\u001b[0m \u001b[0mk4_\u001b[0m \u001b[1;32min\u001b[0m \u001b[0mzip\u001b[0m\u001b[1;33m(\u001b[0m\u001b[0mk1\u001b[0m\u001b[1;33m,\u001b[0m \u001b[0mk2\u001b[0m\u001b[1;33m,\u001b[0m \u001b[0mk3\u001b[0m\u001b[1;33m,\u001b[0m \u001b[0mk4\u001b[0m\u001b[1;33m)\u001b[0m\u001b[1;33m)\u001b[0m\u001b[1;33m\u001b[0m\u001b[1;33m\u001b[0m\u001b[0m\n",
      "\u001b[1;32m~\\Documents\\GitHub\\Neural-ODE\\solver\\misc.py\u001b[0m in \u001b[0;36mbase_nontuple_func\u001b[1;34m(t, y)\u001b[0m\n\u001b[0;32m    349\u001b[0m \u001b[1;33m\u001b[0m\u001b[0m\n\u001b[0;32m    350\u001b[0m         \u001b[1;32mdef\u001b[0m \u001b[0mbase_nontuple_func\u001b[0m\u001b[1;33m(\u001b[0m\u001b[0mt\u001b[0m\u001b[1;33m,\u001b[0m \u001b[0my\u001b[0m\u001b[1;33m)\u001b[0m\u001b[1;33m:\u001b[0m\u001b[1;33m\u001b[0m\u001b[1;33m\u001b[0m\u001b[0m\n\u001b[1;32m--> 351\u001b[1;33m             \u001b[1;32mreturn\u001b[0m \u001b[1;33m(\u001b[0m\u001b[0m_base_nontuple_func_\u001b[0m\u001b[1;33m(\u001b[0m\u001b[0mt\u001b[0m\u001b[1;33m,\u001b[0m \u001b[0my\u001b[0m\u001b[1;33m[\u001b[0m\u001b[1;36m0\u001b[0m\u001b[1;33m]\u001b[0m\u001b[1;33m)\u001b[0m\u001b[1;33m,\u001b[0m\u001b[1;33m)\u001b[0m\u001b[1;33m\u001b[0m\u001b[1;33m\u001b[0m\u001b[0m\n\u001b[0m\u001b[0;32m    352\u001b[0m         \u001b[0mfunc\u001b[0m \u001b[1;33m=\u001b[0m \u001b[0mbase_nontuple_func\u001b[0m\u001b[1;33m\u001b[0m\u001b[1;33m\u001b[0m\u001b[0m\n\u001b[0;32m    353\u001b[0m \u001b[1;33m\u001b[0m\u001b[0m\n",
      "\u001b[1;32m~\\Anaconda3\\envs\\machine-learning\\lib\\site-packages\\tensorflow\\python\\keras\\engine\\base_layer.py\u001b[0m in \u001b[0;36m__call__\u001b[1;34m(self, *args, **kwargs)\u001b[0m\n\u001b[0;32m    966\u001b[0m           with base_layer_utils.autocast_context_manager(\n\u001b[0;32m    967\u001b[0m               self._compute_dtype):\n\u001b[1;32m--> 968\u001b[1;33m             \u001b[0moutputs\u001b[0m \u001b[1;33m=\u001b[0m \u001b[0mself\u001b[0m\u001b[1;33m.\u001b[0m\u001b[0mcall\u001b[0m\u001b[1;33m(\u001b[0m\u001b[0mcast_inputs\u001b[0m\u001b[1;33m,\u001b[0m \u001b[1;33m*\u001b[0m\u001b[0margs\u001b[0m\u001b[1;33m,\u001b[0m \u001b[1;33m**\u001b[0m\u001b[0mkwargs\u001b[0m\u001b[1;33m)\u001b[0m\u001b[1;33m\u001b[0m\u001b[1;33m\u001b[0m\u001b[0m\n\u001b[0m\u001b[0;32m    969\u001b[0m           \u001b[0mself\u001b[0m\u001b[1;33m.\u001b[0m\u001b[0m_handle_activity_regularization\u001b[0m\u001b[1;33m(\u001b[0m\u001b[0minputs\u001b[0m\u001b[1;33m,\u001b[0m \u001b[0moutputs\u001b[0m\u001b[1;33m)\u001b[0m\u001b[1;33m\u001b[0m\u001b[1;33m\u001b[0m\u001b[0m\n\u001b[0;32m    970\u001b[0m           \u001b[0mself\u001b[0m\u001b[1;33m.\u001b[0m\u001b[0m_set_mask_metadata\u001b[0m\u001b[1;33m(\u001b[0m\u001b[0minputs\u001b[0m\u001b[1;33m,\u001b[0m \u001b[0moutputs\u001b[0m\u001b[1;33m,\u001b[0m \u001b[0minput_masks\u001b[0m\u001b[1;33m)\u001b[0m\u001b[1;33m\u001b[0m\u001b[1;33m\u001b[0m\u001b[0m\n",
      "\u001b[1;32m~\\Anaconda3\\envs\\machine-learning\\lib\\site-packages\\tensorflow\\python\\eager\\def_function.py\u001b[0m in \u001b[0;36m__call__\u001b[1;34m(self, *args, **kwds)\u001b[0m\n\u001b[0;32m    562\u001b[0m     \u001b[0mcontext\u001b[0m\u001b[1;33m.\u001b[0m\u001b[0mensure_initialized\u001b[0m\u001b[1;33m(\u001b[0m\u001b[1;33m)\u001b[0m\u001b[1;33m\u001b[0m\u001b[1;33m\u001b[0m\u001b[0m\n\u001b[0;32m    563\u001b[0m     \u001b[1;32mif\u001b[0m \u001b[0mRUN_FUNCTIONS_EAGERLY\u001b[0m\u001b[1;33m:\u001b[0m\u001b[1;33m\u001b[0m\u001b[1;33m\u001b[0m\u001b[0m\n\u001b[1;32m--> 564\u001b[1;33m       \u001b[1;32mreturn\u001b[0m \u001b[0mself\u001b[0m\u001b[1;33m.\u001b[0m\u001b[0m_python_function\u001b[0m\u001b[1;33m(\u001b[0m\u001b[1;33m*\u001b[0m\u001b[0margs\u001b[0m\u001b[1;33m,\u001b[0m \u001b[1;33m**\u001b[0m\u001b[0mkwds\u001b[0m\u001b[1;33m)\u001b[0m\u001b[1;33m\u001b[0m\u001b[1;33m\u001b[0m\u001b[0m\n\u001b[0m\u001b[0;32m    565\u001b[0m \u001b[1;33m\u001b[0m\u001b[0m\n\u001b[0;32m    566\u001b[0m     \u001b[0mtracing_count\u001b[0m \u001b[1;33m=\u001b[0m \u001b[0mself\u001b[0m\u001b[1;33m.\u001b[0m\u001b[0m_get_tracing_count\u001b[0m\u001b[1;33m(\u001b[0m\u001b[1;33m)\u001b[0m\u001b[1;33m\u001b[0m\u001b[1;33m\u001b[0m\u001b[0m\n",
      "\u001b[1;32m~\\Anaconda3\\envs\\machine-learning\\lib\\site-packages\\tensorflow\\python\\eager\\function.py\u001b[0m in \u001b[0;36mbound_method_wrapper\u001b[1;34m(*args, **kwargs)\u001b[0m\n\u001b[0;32m   3292\u001b[0m       \u001b[1;32mif\u001b[0m \u001b[0mtf_inspect\u001b[0m\u001b[1;33m.\u001b[0m\u001b[0mismethod\u001b[0m\u001b[1;33m(\u001b[0m\u001b[0mwrapped_fn\u001b[0m\u001b[1;33m)\u001b[0m\u001b[1;33m:\u001b[0m\u001b[1;33m\u001b[0m\u001b[1;33m\u001b[0m\u001b[0m\n\u001b[0;32m   3293\u001b[0m         \u001b[0mwrapped_fn\u001b[0m \u001b[1;33m=\u001b[0m \u001b[0msix\u001b[0m\u001b[1;33m.\u001b[0m\u001b[0mget_unbound_function\u001b[0m\u001b[1;33m(\u001b[0m\u001b[0mwrapped_fn\u001b[0m\u001b[1;33m)\u001b[0m\u001b[1;33m\u001b[0m\u001b[1;33m\u001b[0m\u001b[0m\n\u001b[1;32m-> 3294\u001b[1;33m       \u001b[1;32mreturn\u001b[0m \u001b[0mwrapped_fn\u001b[0m\u001b[1;33m(\u001b[0m\u001b[0mweak_instance\u001b[0m\u001b[1;33m(\u001b[0m\u001b[1;33m)\u001b[0m\u001b[1;33m,\u001b[0m \u001b[1;33m*\u001b[0m\u001b[0margs\u001b[0m\u001b[1;33m,\u001b[0m \u001b[1;33m**\u001b[0m\u001b[0mkwargs\u001b[0m\u001b[1;33m)\u001b[0m\u001b[1;33m\u001b[0m\u001b[1;33m\u001b[0m\u001b[0m\n\u001b[0m\u001b[0;32m   3295\u001b[0m \u001b[1;33m\u001b[0m\u001b[0m\n\u001b[0;32m   3296\u001b[0m     \u001b[1;31m# If __wrapped__ was replaced, then it is always an unbound function.\u001b[0m\u001b[1;33m\u001b[0m\u001b[1;33m\u001b[0m\u001b[1;33m\u001b[0m\u001b[0m\n",
      "\u001b[1;32m~\\Documents\\GitHub\\Neural-ODE\\ode_block.py\u001b[0m in \u001b[0;36mcall\u001b[1;34m(self, t_local, y, backwards)\u001b[0m\n\u001b[0;32m    108\u001b[0m         \u001b[1;31m#to avoid type incompatibility\u001b[0m\u001b[1;33m\u001b[0m\u001b[1;33m\u001b[0m\u001b[1;33m\u001b[0m\u001b[0m\n\u001b[0;32m    109\u001b[0m         \u001b[0mt_local\u001b[0m\u001b[1;33m,\u001b[0m \u001b[0my\u001b[0m \u001b[1;33m=\u001b[0m \u001b[0mtf\u001b[0m\u001b[1;33m.\u001b[0m\u001b[0mcast\u001b[0m\u001b[1;33m(\u001b[0m\u001b[0mt_local\u001b[0m\u001b[1;33m,\u001b[0m \u001b[0mtf\u001b[0m\u001b[1;33m.\u001b[0m\u001b[0mfloat32\u001b[0m\u001b[1;33m)\u001b[0m\u001b[1;33m,\u001b[0m \u001b[0mtf\u001b[0m\u001b[1;33m.\u001b[0m\u001b[0mcast\u001b[0m\u001b[1;33m(\u001b[0m\u001b[0my\u001b[0m\u001b[1;33m,\u001b[0m \u001b[0mtf\u001b[0m\u001b[1;33m.\u001b[0m\u001b[0mfloat32\u001b[0m\u001b[1;33m)\u001b[0m\u001b[1;33m\u001b[0m\u001b[1;33m\u001b[0m\u001b[0m\n\u001b[1;32m--> 110\u001b[1;33m         \u001b[0mgrad\u001b[0m \u001b[1;33m=\u001b[0m \u001b[0mself\u001b[0m\u001b[1;33m.\u001b[0m\u001b[0mget_ode_gradient_nn\u001b[0m\u001b[1;33m(\u001b[0m\u001b[0mt_local\u001b[0m\u001b[1;33m,\u001b[0m \u001b[0my\u001b[0m\u001b[1;33m)\u001b[0m\u001b[1;33m\u001b[0m\u001b[1;33m\u001b[0m\u001b[0m\n\u001b[0m\u001b[0;32m    111\u001b[0m         \u001b[1;32mif\u001b[0m \u001b[0mbackwards\u001b[0m\u001b[1;33m:\u001b[0m\u001b[1;33m\u001b[0m\u001b[1;33m\u001b[0m\u001b[0m\n\u001b[0;32m    112\u001b[0m             \u001b[0mgrad\u001b[0m \u001b[1;33m=\u001b[0m \u001b[1;33m-\u001b[0m\u001b[0mgrad\u001b[0m\u001b[1;33m\u001b[0m\u001b[1;33m\u001b[0m\u001b[0m\n",
      "\u001b[1;32m~\\Documents\\GitHub\\Neural-ODE\\ode_block.py\u001b[0m in \u001b[0;36mget_ode_gradient_nn\u001b[1;34m(self, t_local, y)\u001b[0m\n\u001b[0;32m    114\u001b[0m \u001b[1;33m\u001b[0m\u001b[0m\n\u001b[0;32m    115\u001b[0m     \u001b[1;32mdef\u001b[0m \u001b[0mget_ode_gradient_nn\u001b[0m\u001b[1;33m(\u001b[0m\u001b[0mself\u001b[0m\u001b[1;33m,\u001b[0m \u001b[0mt_local\u001b[0m\u001b[1;33m,\u001b[0m \u001b[0my\u001b[0m\u001b[1;33m)\u001b[0m\u001b[1;33m:\u001b[0m\u001b[1;33m\u001b[0m\u001b[1;33m\u001b[0m\u001b[0m\n\u001b[1;32m--> 116\u001b[1;33m         \u001b[1;32mreturn\u001b[0m \u001b[0mself\u001b[0m\u001b[1;33m.\u001b[0m\u001b[0mgradient_net\u001b[0m\u001b[1;33m(\u001b[0m\u001b[0my\u001b[0m\u001b[1;33m)\u001b[0m\u001b[1;33m\u001b[0m\u001b[1;33m\u001b[0m\u001b[0m\n\u001b[0m\u001b[0;32m    117\u001b[0m \u001b[1;33m\u001b[0m\u001b[0m\n\u001b[0;32m    118\u001b[0m     \u001b[1;32mdef\u001b[0m \u001b[0msample_next_point_from_prior\u001b[0m\u001b[1;33m(\u001b[0m\u001b[0mself\u001b[0m\u001b[1;33m,\u001b[0m \u001b[0mt_local\u001b[0m\u001b[1;33m,\u001b[0m \u001b[0my\u001b[0m\u001b[1;33m)\u001b[0m\u001b[1;33m:\u001b[0m\u001b[1;33m\u001b[0m\u001b[1;33m\u001b[0m\u001b[0m\n",
      "\u001b[1;32m~\\Anaconda3\\envs\\machine-learning\\lib\\site-packages\\tensorflow\\python\\keras\\engine\\base_layer.py\u001b[0m in \u001b[0;36m__call__\u001b[1;34m(self, *args, **kwargs)\u001b[0m\n\u001b[0;32m    966\u001b[0m           with base_layer_utils.autocast_context_manager(\n\u001b[0;32m    967\u001b[0m               self._compute_dtype):\n\u001b[1;32m--> 968\u001b[1;33m             \u001b[0moutputs\u001b[0m \u001b[1;33m=\u001b[0m \u001b[0mself\u001b[0m\u001b[1;33m.\u001b[0m\u001b[0mcall\u001b[0m\u001b[1;33m(\u001b[0m\u001b[0mcast_inputs\u001b[0m\u001b[1;33m,\u001b[0m \u001b[1;33m*\u001b[0m\u001b[0margs\u001b[0m\u001b[1;33m,\u001b[0m \u001b[1;33m**\u001b[0m\u001b[0mkwargs\u001b[0m\u001b[1;33m)\u001b[0m\u001b[1;33m\u001b[0m\u001b[1;33m\u001b[0m\u001b[0m\n\u001b[0m\u001b[0;32m    969\u001b[0m           \u001b[0mself\u001b[0m\u001b[1;33m.\u001b[0m\u001b[0m_handle_activity_regularization\u001b[0m\u001b[1;33m(\u001b[0m\u001b[0minputs\u001b[0m\u001b[1;33m,\u001b[0m \u001b[0moutputs\u001b[0m\u001b[1;33m)\u001b[0m\u001b[1;33m\u001b[0m\u001b[1;33m\u001b[0m\u001b[0m\n\u001b[0;32m    970\u001b[0m           \u001b[0mself\u001b[0m\u001b[1;33m.\u001b[0m\u001b[0m_set_mask_metadata\u001b[0m\u001b[1;33m(\u001b[0m\u001b[0minputs\u001b[0m\u001b[1;33m,\u001b[0m \u001b[0moutputs\u001b[0m\u001b[1;33m,\u001b[0m \u001b[0minput_masks\u001b[0m\u001b[1;33m)\u001b[0m\u001b[1;33m\u001b[0m\u001b[1;33m\u001b[0m\u001b[0m\n",
      "\u001b[1;32m~\\Anaconda3\\envs\\machine-learning\\lib\\site-packages\\tensorflow\\python\\keras\\engine\\sequential.py\u001b[0m in \u001b[0;36mcall\u001b[1;34m(self, inputs, training, mask)\u001b[0m\n\u001b[0;32m    289\u001b[0m         \u001b[0mkwargs\u001b[0m\u001b[1;33m[\u001b[0m\u001b[1;34m'training'\u001b[0m\u001b[1;33m]\u001b[0m \u001b[1;33m=\u001b[0m \u001b[0mtraining\u001b[0m\u001b[1;33m\u001b[0m\u001b[1;33m\u001b[0m\u001b[0m\n\u001b[0;32m    290\u001b[0m \u001b[1;33m\u001b[0m\u001b[0m\n\u001b[1;32m--> 291\u001b[1;33m       \u001b[0moutputs\u001b[0m \u001b[1;33m=\u001b[0m \u001b[0mlayer\u001b[0m\u001b[1;33m(\u001b[0m\u001b[0minputs\u001b[0m\u001b[1;33m,\u001b[0m \u001b[1;33m**\u001b[0m\u001b[0mkwargs\u001b[0m\u001b[1;33m)\u001b[0m\u001b[1;33m\u001b[0m\u001b[1;33m\u001b[0m\u001b[0m\n\u001b[0m\u001b[0;32m    292\u001b[0m \u001b[1;33m\u001b[0m\u001b[0m\n\u001b[0;32m    293\u001b[0m       \u001b[1;32mif\u001b[0m \u001b[0mlen\u001b[0m\u001b[1;33m(\u001b[0m\u001b[0mnest\u001b[0m\u001b[1;33m.\u001b[0m\u001b[0mflatten\u001b[0m\u001b[1;33m(\u001b[0m\u001b[0moutputs\u001b[0m\u001b[1;33m)\u001b[0m\u001b[1;33m)\u001b[0m \u001b[1;33m!=\u001b[0m \u001b[1;36m1\u001b[0m\u001b[1;33m:\u001b[0m\u001b[1;33m\u001b[0m\u001b[1;33m\u001b[0m\u001b[0m\n",
      "\u001b[1;32m~\\Anaconda3\\envs\\machine-learning\\lib\\site-packages\\tensorflow\\python\\keras\\engine\\base_layer.py\u001b[0m in \u001b[0;36m__call__\u001b[1;34m(self, *args, **kwargs)\u001b[0m\n\u001b[0;32m    966\u001b[0m           with base_layer_utils.autocast_context_manager(\n\u001b[0;32m    967\u001b[0m               self._compute_dtype):\n\u001b[1;32m--> 968\u001b[1;33m             \u001b[0moutputs\u001b[0m \u001b[1;33m=\u001b[0m \u001b[0mself\u001b[0m\u001b[1;33m.\u001b[0m\u001b[0mcall\u001b[0m\u001b[1;33m(\u001b[0m\u001b[0mcast_inputs\u001b[0m\u001b[1;33m,\u001b[0m \u001b[1;33m*\u001b[0m\u001b[0margs\u001b[0m\u001b[1;33m,\u001b[0m \u001b[1;33m**\u001b[0m\u001b[0mkwargs\u001b[0m\u001b[1;33m)\u001b[0m\u001b[1;33m\u001b[0m\u001b[1;33m\u001b[0m\u001b[0m\n\u001b[0m\u001b[0;32m    969\u001b[0m           \u001b[0mself\u001b[0m\u001b[1;33m.\u001b[0m\u001b[0m_handle_activity_regularization\u001b[0m\u001b[1;33m(\u001b[0m\u001b[0minputs\u001b[0m\u001b[1;33m,\u001b[0m \u001b[0moutputs\u001b[0m\u001b[1;33m)\u001b[0m\u001b[1;33m\u001b[0m\u001b[1;33m\u001b[0m\u001b[0m\n\u001b[0;32m    970\u001b[0m           \u001b[0mself\u001b[0m\u001b[1;33m.\u001b[0m\u001b[0m_set_mask_metadata\u001b[0m\u001b[1;33m(\u001b[0m\u001b[0minputs\u001b[0m\u001b[1;33m,\u001b[0m \u001b[0moutputs\u001b[0m\u001b[1;33m,\u001b[0m \u001b[0minput_masks\u001b[0m\u001b[1;33m)\u001b[0m\u001b[1;33m\u001b[0m\u001b[1;33m\u001b[0m\u001b[0m\n",
      "\u001b[1;32m~\\Anaconda3\\envs\\machine-learning\\lib\\site-packages\\tensorflow\\python\\keras\\layers\\core.py\u001b[0m in \u001b[0;36mcall\u001b[1;34m(self, inputs)\u001b[0m\n\u001b[0;32m   1181\u001b[0m     \u001b[1;32mif\u001b[0m \u001b[0mrank\u001b[0m \u001b[1;32mis\u001b[0m \u001b[1;32mnot\u001b[0m \u001b[1;32mNone\u001b[0m \u001b[1;32mand\u001b[0m \u001b[0mrank\u001b[0m \u001b[1;33m>\u001b[0m \u001b[1;36m2\u001b[0m\u001b[1;33m:\u001b[0m\u001b[1;33m\u001b[0m\u001b[1;33m\u001b[0m\u001b[0m\n\u001b[0;32m   1182\u001b[0m       \u001b[1;31m# Broadcasting is required for the inputs.\u001b[0m\u001b[1;33m\u001b[0m\u001b[1;33m\u001b[0m\u001b[1;33m\u001b[0m\u001b[0m\n\u001b[1;32m-> 1183\u001b[1;33m       \u001b[0moutputs\u001b[0m \u001b[1;33m=\u001b[0m \u001b[0mstandard_ops\u001b[0m\u001b[1;33m.\u001b[0m\u001b[0mtensordot\u001b[0m\u001b[1;33m(\u001b[0m\u001b[0minputs\u001b[0m\u001b[1;33m,\u001b[0m \u001b[0mself\u001b[0m\u001b[1;33m.\u001b[0m\u001b[0mkernel\u001b[0m\u001b[1;33m,\u001b[0m \u001b[1;33m[\u001b[0m\u001b[1;33m[\u001b[0m\u001b[0mrank\u001b[0m \u001b[1;33m-\u001b[0m \u001b[1;36m1\u001b[0m\u001b[1;33m]\u001b[0m\u001b[1;33m,\u001b[0m \u001b[1;33m[\u001b[0m\u001b[1;36m0\u001b[0m\u001b[1;33m]\u001b[0m\u001b[1;33m]\u001b[0m\u001b[1;33m)\u001b[0m\u001b[1;33m\u001b[0m\u001b[1;33m\u001b[0m\u001b[0m\n\u001b[0m\u001b[0;32m   1184\u001b[0m       \u001b[1;31m# Reshape the output back to the original ndim of the input.\u001b[0m\u001b[1;33m\u001b[0m\u001b[1;33m\u001b[0m\u001b[1;33m\u001b[0m\u001b[0m\n\u001b[0;32m   1185\u001b[0m       \u001b[1;32mif\u001b[0m \u001b[1;32mnot\u001b[0m \u001b[0mcontext\u001b[0m\u001b[1;33m.\u001b[0m\u001b[0mexecuting_eagerly\u001b[0m\u001b[1;33m(\u001b[0m\u001b[1;33m)\u001b[0m\u001b[1;33m:\u001b[0m\u001b[1;33m\u001b[0m\u001b[1;33m\u001b[0m\u001b[0m\n",
      "\u001b[1;32m~\\Anaconda3\\envs\\machine-learning\\lib\\site-packages\\tensorflow\\python\\ops\\math_ops.py\u001b[0m in \u001b[0;36mtensordot\u001b[1;34m(a, b, axes, name)\u001b[0m\n\u001b[0;32m   4341\u001b[0m     \u001b[0mb\u001b[0m \u001b[1;33m=\u001b[0m \u001b[0mops\u001b[0m\u001b[1;33m.\u001b[0m\u001b[0mconvert_to_tensor\u001b[0m\u001b[1;33m(\u001b[0m\u001b[0mb\u001b[0m\u001b[1;33m,\u001b[0m \u001b[0mname\u001b[0m\u001b[1;33m=\u001b[0m\u001b[1;34m\"b\"\u001b[0m\u001b[1;33m)\u001b[0m\u001b[1;33m\u001b[0m\u001b[1;33m\u001b[0m\u001b[0m\n\u001b[0;32m   4342\u001b[0m     \u001b[0ma_axes\u001b[0m\u001b[1;33m,\u001b[0m \u001b[0mb_axes\u001b[0m \u001b[1;33m=\u001b[0m \u001b[0m_tensordot_axes\u001b[0m\u001b[1;33m(\u001b[0m\u001b[0ma\u001b[0m\u001b[1;33m,\u001b[0m \u001b[0maxes\u001b[0m\u001b[1;33m)\u001b[0m\u001b[1;33m\u001b[0m\u001b[1;33m\u001b[0m\u001b[0m\n\u001b[1;32m-> 4343\u001b[1;33m     \u001b[0ma_reshape\u001b[0m\u001b[1;33m,\u001b[0m \u001b[0ma_free_dims\u001b[0m\u001b[1;33m,\u001b[0m \u001b[0ma_free_dims_static\u001b[0m \u001b[1;33m=\u001b[0m \u001b[0m_tensordot_reshape\u001b[0m\u001b[1;33m(\u001b[0m\u001b[0ma\u001b[0m\u001b[1;33m,\u001b[0m \u001b[0ma_axes\u001b[0m\u001b[1;33m)\u001b[0m\u001b[1;33m\u001b[0m\u001b[1;33m\u001b[0m\u001b[0m\n\u001b[0m\u001b[0;32m   4344\u001b[0m     b_reshape, b_free_dims, b_free_dims_static = _tensordot_reshape(\n\u001b[0;32m   4345\u001b[0m         b, b_axes, True)\n",
      "\u001b[1;32m~\\Anaconda3\\envs\\machine-learning\\lib\\site-packages\\tensorflow\\python\\ops\\math_ops.py\u001b[0m in \u001b[0;36m_tensordot_reshape\u001b[1;34m(a, axes, flipped)\u001b[0m\n\u001b[0;32m   4268\u001b[0m         \u001b[0ma_trans\u001b[0m \u001b[1;33m=\u001b[0m \u001b[0ma\u001b[0m\u001b[1;33m\u001b[0m\u001b[1;33m\u001b[0m\u001b[0m\n\u001b[0;32m   4269\u001b[0m       \u001b[1;32mif\u001b[0m \u001b[0ma_trans\u001b[0m\u001b[1;33m.\u001b[0m\u001b[0mget_shape\u001b[0m\u001b[1;33m(\u001b[0m\u001b[1;33m)\u001b[0m\u001b[1;33m.\u001b[0m\u001b[0mas_list\u001b[0m\u001b[1;33m(\u001b[0m\u001b[1;33m)\u001b[0m \u001b[1;33m!=\u001b[0m \u001b[0mnew_shape\u001b[0m\u001b[1;33m:\u001b[0m\u001b[1;33m\u001b[0m\u001b[1;33m\u001b[0m\u001b[0m\n\u001b[1;32m-> 4270\u001b[1;33m         \u001b[0mreshaped_a\u001b[0m \u001b[1;33m=\u001b[0m \u001b[0marray_ops\u001b[0m\u001b[1;33m.\u001b[0m\u001b[0mreshape\u001b[0m\u001b[1;33m(\u001b[0m\u001b[0ma_trans\u001b[0m\u001b[1;33m,\u001b[0m \u001b[0mnew_shape\u001b[0m\u001b[1;33m)\u001b[0m\u001b[1;33m\u001b[0m\u001b[1;33m\u001b[0m\u001b[0m\n\u001b[0m\u001b[0;32m   4271\u001b[0m       \u001b[1;32melse\u001b[0m\u001b[1;33m:\u001b[0m\u001b[1;33m\u001b[0m\u001b[1;33m\u001b[0m\u001b[0m\n\u001b[0;32m   4272\u001b[0m         \u001b[0mreshaped_a\u001b[0m \u001b[1;33m=\u001b[0m \u001b[0ma_trans\u001b[0m\u001b[1;33m\u001b[0m\u001b[1;33m\u001b[0m\u001b[0m\n",
      "\u001b[1;32m~\\Anaconda3\\envs\\machine-learning\\lib\\site-packages\\tensorflow\\python\\ops\\array_ops.py\u001b[0m in \u001b[0;36mreshape\u001b[1;34m(tensor, shape, name)\u001b[0m\n\u001b[0;32m    191\u001b[0m     \u001b[0mA\u001b[0m\u001b[0;31m \u001b[0m\u001b[0;31m`\u001b[0m\u001b[0mTensor\u001b[0m\u001b[0;31m`\u001b[0m\u001b[1;33m.\u001b[0m \u001b[0mHas\u001b[0m \u001b[0mthe\u001b[0m \u001b[0msame\u001b[0m \u001b[0mtype\u001b[0m \u001b[1;32mas\u001b[0m\u001b[0;31m \u001b[0m\u001b[0;31m`\u001b[0m\u001b[0mtensor\u001b[0m\u001b[0;31m`\u001b[0m\u001b[1;33m.\u001b[0m\u001b[1;33m\u001b[0m\u001b[1;33m\u001b[0m\u001b[0m\n\u001b[0;32m    192\u001b[0m   \"\"\"\n\u001b[1;32m--> 193\u001b[1;33m   \u001b[0mresult\u001b[0m \u001b[1;33m=\u001b[0m \u001b[0mgen_array_ops\u001b[0m\u001b[1;33m.\u001b[0m\u001b[0mreshape\u001b[0m\u001b[1;33m(\u001b[0m\u001b[0mtensor\u001b[0m\u001b[1;33m,\u001b[0m \u001b[0mshape\u001b[0m\u001b[1;33m,\u001b[0m \u001b[0mname\u001b[0m\u001b[1;33m)\u001b[0m\u001b[1;33m\u001b[0m\u001b[1;33m\u001b[0m\u001b[0m\n\u001b[0m\u001b[0;32m    194\u001b[0m   \u001b[0mtensor_util\u001b[0m\u001b[1;33m.\u001b[0m\u001b[0mmaybe_set_static_shape\u001b[0m\u001b[1;33m(\u001b[0m\u001b[0mresult\u001b[0m\u001b[1;33m,\u001b[0m \u001b[0mshape\u001b[0m\u001b[1;33m)\u001b[0m\u001b[1;33m\u001b[0m\u001b[1;33m\u001b[0m\u001b[0m\n\u001b[0;32m    195\u001b[0m   \u001b[1;32mreturn\u001b[0m \u001b[0mresult\u001b[0m\u001b[1;33m\u001b[0m\u001b[1;33m\u001b[0m\u001b[0m\n",
      "\u001b[1;32m~\\Anaconda3\\envs\\machine-learning\\lib\\site-packages\\tensorflow\\python\\ops\\gen_array_ops.py\u001b[0m in \u001b[0;36mreshape\u001b[1;34m(tensor, shape, name)\u001b[0m\n\u001b[0;32m   8078\u001b[0m       \u001b[1;32mtry\u001b[0m\u001b[1;33m:\u001b[0m\u001b[1;33m\u001b[0m\u001b[1;33m\u001b[0m\u001b[0m\n\u001b[0;32m   8079\u001b[0m         return reshape_eager_fallback(\n\u001b[1;32m-> 8080\u001b[1;33m             tensor, shape, name=name, ctx=_ctx)\n\u001b[0m\u001b[0;32m   8081\u001b[0m       \u001b[1;32mexcept\u001b[0m \u001b[0m_core\u001b[0m\u001b[1;33m.\u001b[0m\u001b[0m_SymbolicException\u001b[0m\u001b[1;33m:\u001b[0m\u001b[1;33m\u001b[0m\u001b[1;33m\u001b[0m\u001b[0m\n\u001b[0;32m   8082\u001b[0m         \u001b[1;32mpass\u001b[0m  \u001b[1;31m# Add nodes to the TensorFlow graph.\u001b[0m\u001b[1;33m\u001b[0m\u001b[1;33m\u001b[0m\u001b[0m\n",
      "\u001b[1;32m~\\Anaconda3\\envs\\machine-learning\\lib\\site-packages\\tensorflow\\python\\ops\\gen_array_ops.py\u001b[0m in \u001b[0;36mreshape_eager_fallback\u001b[1;34m(tensor, shape, name, ctx)\u001b[0m\n\u001b[0;32m   8105\u001b[0m   \u001b[0m_attrs\u001b[0m \u001b[1;33m=\u001b[0m \u001b[1;33m(\u001b[0m\u001b[1;34m\"T\"\u001b[0m\u001b[1;33m,\u001b[0m \u001b[0m_attr_T\u001b[0m\u001b[1;33m,\u001b[0m \u001b[1;34m\"Tshape\"\u001b[0m\u001b[1;33m,\u001b[0m \u001b[0m_attr_Tshape\u001b[0m\u001b[1;33m)\u001b[0m\u001b[1;33m\u001b[0m\u001b[1;33m\u001b[0m\u001b[0m\n\u001b[0;32m   8106\u001b[0m   _result = _execute.execute(b\"Reshape\", 1, inputs=_inputs_flat, attrs=_attrs,\n\u001b[1;32m-> 8107\u001b[1;33m                              ctx=ctx, name=name)\n\u001b[0m\u001b[0;32m   8108\u001b[0m   \u001b[1;32mif\u001b[0m \u001b[0m_execute\u001b[0m\u001b[1;33m.\u001b[0m\u001b[0mmust_record_gradient\u001b[0m\u001b[1;33m(\u001b[0m\u001b[1;33m)\u001b[0m\u001b[1;33m:\u001b[0m\u001b[1;33m\u001b[0m\u001b[1;33m\u001b[0m\u001b[0m\n\u001b[0;32m   8109\u001b[0m     _execute.record_gradient(\n",
      "\u001b[1;32m~\\Anaconda3\\envs\\machine-learning\\lib\\site-packages\\tensorflow\\python\\eager\\execute.py\u001b[0m in \u001b[0;36mquick_execute\u001b[1;34m(op_name, num_outputs, inputs, attrs, ctx, name)\u001b[0m\n\u001b[0;32m     58\u001b[0m     \u001b[0mctx\u001b[0m\u001b[1;33m.\u001b[0m\u001b[0mensure_initialized\u001b[0m\u001b[1;33m(\u001b[0m\u001b[1;33m)\u001b[0m\u001b[1;33m\u001b[0m\u001b[1;33m\u001b[0m\u001b[0m\n\u001b[0;32m     59\u001b[0m     tensors = pywrap_tfe.TFE_Py_Execute(ctx._handle, device_name, op_name,\n\u001b[1;32m---> 60\u001b[1;33m                                         inputs, attrs, num_outputs)\n\u001b[0m\u001b[0;32m     61\u001b[0m   \u001b[1;32mexcept\u001b[0m \u001b[0mcore\u001b[0m\u001b[1;33m.\u001b[0m\u001b[0m_NotOkStatusException\u001b[0m \u001b[1;32mas\u001b[0m \u001b[0me\u001b[0m\u001b[1;33m:\u001b[0m\u001b[1;33m\u001b[0m\u001b[1;33m\u001b[0m\u001b[0m\n\u001b[0;32m     62\u001b[0m     \u001b[1;32mif\u001b[0m \u001b[0mname\u001b[0m \u001b[1;32mis\u001b[0m \u001b[1;32mnot\u001b[0m \u001b[1;32mNone\u001b[0m\u001b[1;33m:\u001b[0m\u001b[1;33m\u001b[0m\u001b[1;33m\u001b[0m\u001b[0m\n",
      "\u001b[1;31mKeyboardInterrupt\u001b[0m: "
     ]
    }
   ],
   "source": [
    "tf.compat.v1.enable_eager_execution()\n",
    "with tf.device('/device:CPU:0'):\n",
    "    for epoch in range(1,31):\n",
    "        print('Epoch {}:'.format(epoch))\n",
    "        for itr in range(1,num_batches+1):\n",
    "            with tf.GradientTape(persistent=True) as tape:\n",
    "                wait_until_kl_inc = 10\n",
    "                if itr+epoch<wait_until_kl_inc:\n",
    "                    kl_coef = (itr+epoch)/wait_until_kl_inc\n",
    "                else:\n",
    "                    kl_coef=1\n",
    "                batch_dict = get_next_batch(data_obj[\"train_dataloader\"])\n",
    "                train_res = model_1.compute_all_losses(batch_dict, n_traj_samples = 1, kl_coef = kl_coef, mode=data_obj['mode'])\n",
    "                #rain_res[\"loss\"].backward()\n",
    "                #optimizer.step()\n",
    "            grad = tape.gradient( train_res[\"loss\"], model_1.variables)\n",
    "            grad_vars = zip(grad, model_1.trainable_variables)\n",
    "            optimizer.apply_gradients(grad_vars)\n",
    "            loss_meter.update(train_res['loss'].numpy())\n",
    "        print('IWAE loss: {1}\\nlog-likelihood: {2}\\nKL-divergence: {3}'.format(itr, train_res['loss'], \n",
    "                                                                       train_res['likelihood'], train_res[\"kl_first_p\"]))"
   ]
  },
  {
   "cell_type": "code",
   "execution_count": 80,
   "metadata": {},
   "outputs": [],
   "source": [
    "batch_dict = get_next_batch(data_obj[\"test_dataloader\"])\n",
    "pred_y_test= model_1.get_reconstruction(batch_dict[\"tp_to_predict\"], \n",
    "                        batch_dict[\"observed_data\"], \n",
    "                        batch_dict[\"observed_tp\"], \n",
    "                        n_traj_samples = 1,\n",
    "                        mode = 'extrap')\n",
    "pred_y= model_1.get_reconstruction(tf.concat([batch_dict[\"observed_tp\"],batch_dict[\"tp_to_predict\"]],0), \n",
    "                        batch_dict[\"observed_data\"], \n",
    "                        batch_dict[\"observed_tp\"], \n",
    "                        n_traj_samples = 1,\n",
    "                        mode = 'extrap')"
   ]
  },
  {
   "cell_type": "code",
   "execution_count": 81,
   "metadata": {},
   "outputs": [],
   "source": [
    "timestamps=tf.concat([batch_dict[\"observed_tp\"],batch_dict[\"tp_to_predict\"]],0).numpy().ravel()\n",
    "actual =  np.append(batch_dict[\"observed_data\"][0].numpy().ravel(), batch_dict[\"data_to_predict\"][0].numpy().ravel())\n",
    "obs = ['observed' if x in batch_dict[\"observed_tp\"].numpy().ravel() else 'unobserved' for x in timestamps]\n",
    "test = np.append([np.nan for _ in batch_dict[\"observed_tp\"].numpy().ravel()], pred_y_test[0].numpy().ravel())\n",
    "results = pd.DataFrame({'time':timestamps, \n",
    "                        'y':actual, \n",
    "                        'modelled':pred_y[0].numpy().ravel(),\n",
    "                        'predicted':test,\n",
    "                       'observed':obs})"
   ]
  },
  {
   "cell_type": "markdown",
   "metadata": {},
   "source": [
    "### Желтая линия - результат экстраполяции сетью траектории, выученной на тренировочных данных (синие точки)  "
   ]
  },
  {
   "cell_type": "code",
   "execution_count": 82,
   "metadata": {
    "scrolled": true
   },
   "outputs": [
    {
     "data": {
      "image/png": "[encoded data removed]",
      "text/plain": [
       "<Figure size 457.225x360 with 1 Axes>"
      ]
     },
     "metadata": {},
     "output_type": "display_data"
    }
   ],
   "source": [
    "fg = sns.lmplot(x ='time',y='y', data=results,  palette=\"muted\", hue='observed', fit_reg=False )\n",
    "#fg.axes[0,0].plot(results.time, results.modelled, color='green')\n",
    "fg.axes[0,0].plot(results.time, results.predicted, color='yellow')\n",
    "plt.show()"
   ]
  },
  {
   "cell_type": "markdown",
   "metadata": {},
   "source": [
    "### Сеть, которая использует аппарат нестационарных пуассоновских процессовв для моделлирования распределения временных меток "
   ]
  },
  {
   "cell_type": "code",
   "execution_count": 35,
   "metadata": {},
   "outputs": [],
   "source": [
    "optimizer_pois = update_learning_rate_optimizer(tf.keras.optimizers.Adamax, initial_lr=0.01, decay_steps=1000, lowest=1e-5)\n",
    "loss_meter_pois = RunningAverageMeter()"
   ]
  },
  {
   "cell_type": "code",
   "execution_count": 64,
   "metadata": {
    "collapsed": true
   },
   "outputs": [
    {
     "name": "stdout",
     "output_type": "stream",
     "text": [
      "Epoch 1:\n",
      "IWAE loss: -1.3358440399169922\n",
      "log-likelihood: -1.356695532798767\n",
      "KL-divergence: 2.5021252632141113\n",
      "Epoch 2:\n",
      "IWAE loss: -0.38660144805908203\n",
      "log-likelihood: -2.050013542175293\n",
      "KL-divergence: 2.513923406600952\n",
      "Epoch 3:\n",
      "IWAE loss: -0.842602014541626\n",
      "log-likelihood: -1.3067151308059692\n",
      "KL-divergence: 2.5729055404663086\n",
      "Epoch 4:\n",
      "IWAE loss: -1.4913196563720703\n",
      "log-likelihood: -0.13817934691905975\n",
      "KL-divergence: 2.948397397994995\n",
      "Epoch 5:\n",
      "IWAE loss: -1.365574598312378\n",
      "log-likelihood: -0.24655720591545105\n",
      "KL-divergence: 2.601693868637085\n",
      "Epoch 6:\n",
      "IWAE loss: -0.49536728858947754\n",
      "log-likelihood: -0.8379034996032715\n",
      "KL-divergence: 2.6218388080596924\n",
      "Epoch 7:\n",
      "IWAE loss: 0.37649106979370117\n",
      "log-likelihood: -1.3857461214065552\n",
      "KL-divergence: 2.6842687129974365\n",
      "Epoch 8:\n",
      "IWAE loss: 2.9669716358184814\n",
      "log-likelihood: -3.8716821670532227\n",
      "KL-divergence: 2.7881529331207275\n",
      "Epoch 9:\n",
      "IWAE loss: 4.502782821655273\n",
      "log-likelihood: -5.332765579223633\n",
      "KL-divergence: 2.863116502761841\n",
      "Epoch 10:\n",
      "IWAE loss: -0.6111404895782471\n",
      "log-likelihood: -0.3200820982456207\n",
      "KL-divergence: 2.7620131969451904\n",
      "Epoch 11:\n",
      "IWAE loss: -0.6127417087554932\n",
      "log-likelihood: -0.34080836176872253\n",
      "KL-divergence: 2.7398290634155273\n",
      "Epoch 12:\n",
      "IWAE loss: 4.166060447692871\n",
      "log-likelihood: -5.0956950187683105\n",
      "KL-divergence: 2.763601303100586\n",
      "Epoch 13:\n",
      "IWAE loss: -0.25080084800720215\n",
      "log-likelihood: -0.6336411237716675\n",
      "KL-divergence: 2.8089945316314697\n",
      "Epoch 14:\n",
      "IWAE loss: -0.5060982704162598\n",
      "log-likelihood: -0.315326064825058\n",
      "KL-divergence: 2.871969223022461\n",
      "Epoch 15:\n",
      "IWAE loss: 1.94264817237854\n",
      "log-likelihood: -2.6874258518218994\n",
      "KL-divergence: 2.9484212398529053\n",
      "Epoch 16:\n",
      "IWAE loss: -0.604189395904541\n",
      "log-likelihood: -0.17875713109970093\n",
      "KL-divergence: 2.910485029220581\n",
      "Epoch 17:\n",
      "IWAE loss: -0.7779974937438965\n",
      "log-likelihood: -0.06319455802440643\n",
      "KL-divergence: 2.85213565826416\n",
      "Epoch 18:\n",
      "IWAE loss: -0.4821336269378662\n",
      "log-likelihood: -0.40741288661956787\n",
      "KL-divergence: 2.803636312484741\n",
      "Epoch 19:\n",
      "IWAE loss: -0.18211579322814941\n",
      "log-likelihood: -0.7656220197677612\n",
      "KL-divergence: 2.7454545497894287\n",
      "Epoch 20:\n",
      "IWAE loss: -0.8625261783599854\n",
      "log-likelihood: -0.12120915949344635\n",
      "KL-divergence: 2.709538221359253\n",
      "Epoch 21:\n",
      "IWAE loss: -0.6246027946472168\n",
      "log-likelihood: -0.3740701675415039\n",
      "KL-divergence: 2.6946239471435547\n",
      "Epoch 22:\n",
      "IWAE loss: -0.4489467144012451\n",
      "log-likelihood: -0.5592020750045776\n",
      "KL-divergence: 2.6850521564483643\n",
      "Epoch 23:\n",
      "IWAE loss: 0.8917100429534912\n",
      "log-likelihood: -1.9114437103271484\n",
      "KL-divergence: 2.673701524734497\n",
      "Epoch 24:\n",
      "IWAE loss: -0.05444502830505371\n",
      "log-likelihood: -0.952654242515564\n",
      "KL-divergence: 2.6861836910247803\n",
      "Epoch 25:\n",
      "IWAE loss: -0.9781241416931152\n",
      "log-likelihood: 0.026883238926529884\n",
      "KL-divergence: 2.742110013961792\n",
      "Epoch 26:\n",
      "IWAE loss: 0.8985199928283691\n",
      "log-likelihood: -1.8119688034057617\n",
      "KL-divergence: 2.7797224521636963\n",
      "Epoch 27:\n",
      "IWAE loss: -0.9995265007019043\n",
      "log-likelihood: 0.1576545238494873\n",
      "KL-divergence: 2.8514554500579834\n",
      "Epoch 28:\n",
      "IWAE loss: 0.8070580959320068\n",
      "log-likelihood: -1.5830172300338745\n",
      "KL-divergence: 2.9174070358276367\n",
      "Epoch 29:\n",
      "IWAE loss: -0.3808605670928955\n",
      "log-likelihood: -0.43629464507102966\n",
      "KL-divergence: 2.8761870861053467\n",
      "Epoch 30:\n",
      "IWAE loss: -0.37839341163635254\n",
      "log-likelihood: -0.5400317907333374\n",
      "KL-divergence: 2.7749814987182617\n",
      "Epoch 31:\n",
      "IWAE loss: 1.6387052536010742\n",
      "log-likelihood: -2.6275627613067627\n",
      "KL-divergence: 2.7045767307281494\n",
      "Epoch 32:\n",
      "IWAE loss: 3.213944673538208\n",
      "log-likelihood: -4.260775566101074\n",
      "KL-divergence: 2.6463966369628906\n",
      "Epoch 33:\n",
      "IWAE loss: -0.764789342880249\n",
      "log-likelihood: -0.29648399353027344\n",
      "KL-divergence: 2.6321144104003906\n",
      "Epoch 34:\n",
      "IWAE loss: -0.1725015640258789\n",
      "log-likelihood: -0.8749680519104004\n",
      "KL-divergence: 2.6460835933685303\n",
      "Epoch 35:\n",
      "IWAE loss: -0.04600071907043457\n",
      "log-likelihood: -0.9928764700889587\n",
      "KL-divergence: 2.654341459274292\n",
      "Epoch 36:\n",
      "IWAE loss: -0.9068906307220459\n",
      "log-likelihood: -0.06323879212141037\n",
      "KL-divergence: 2.7231109142303467\n",
      "Epoch 37:\n",
      "IWAE loss: -0.37075281143188477\n",
      "log-likelihood: -0.4651906192302704\n",
      "KL-divergence: 2.857360601425171\n",
      "Epoch 38:\n",
      "IWAE loss: 1.2648425102233887\n",
      "log-likelihood: -2.297725200653076\n",
      "KL-divergence: 2.660532236099243\n",
      "Epoch 39:\n",
      "IWAE loss: -1.1280145645141602\n",
      "log-likelihood: 0.1374131590127945\n",
      "KL-divergence: 2.702944755554199\n",
      "Epoch 40:\n",
      "IWAE loss: -0.7932593822479248\n",
      "log-likelihood: -0.1340620368719101\n",
      "KL-divergence: 2.7660653591156006\n",
      "Epoch 41:\n",
      "IWAE loss: -0.5511126518249512\n",
      "log-likelihood: -0.31791096925735474\n",
      "KL-divergence: 2.8242347240448\n",
      "Epoch 42:\n",
      "IWAE loss: -0.4992978572845459\n",
      "log-likelihood: -0.37253034114837646\n",
      "KL-divergence: 2.8215510845184326\n",
      "Epoch 43:\n",
      "IWAE loss: -0.8155879974365234\n",
      "log-likelihood: -0.12139016389846802\n",
      "KL-divergence: 2.7565205097198486\n",
      "Epoch 44:\n",
      "IWAE loss: -0.6190340518951416\n",
      "log-likelihood: -0.3831136226654053\n",
      "KL-divergence: 2.691089630126953\n",
      "Epoch 45:\n",
      "IWAE loss: 0.4164872169494629\n",
      "log-likelihood: -1.4396765232086182\n",
      "KL-divergence: 2.6700961589813232\n",
      "Epoch 46:\n",
      "IWAE loss: -1.1144416332244873\n",
      "log-likelihood: 0.07910824567079544\n",
      "KL-divergence: 2.657942533493042\n",
      "Epoch 47:\n",
      "IWAE loss: -0.8742148876190186\n",
      "log-likelihood: -0.18634243309497833\n",
      "KL-divergence: 2.632885217666626\n",
      "Epoch 48:\n",
      "IWAE loss: -0.7270598411560059\n",
      "log-likelihood: -0.36295488476753235\n",
      "KL-divergence: 2.603468656539917\n",
      "Epoch 49:\n",
      "IWAE loss: -0.7797544002532959\n",
      "log-likelihood: -0.3255644142627716\n",
      "KL-divergence: 2.58781361579895\n",
      "Epoch 50:\n",
      "IWAE loss: -0.9379453659057617\n",
      "log-likelihood: -0.19257929921150208\n",
      "KL-divergence: 2.562960386276245\n"
     ]
    }
   ],
   "source": [
    "tf.compat.v1.enable_eager_execution()\n",
    "with tf.device('/device:CPU:0'):\n",
    "    for epoch in range(1,51):\n",
    "        print('Epoch {}:'.format(epoch))\n",
    "        for itr in range(1,num_batches+1):\n",
    "            with tf.GradientTape(persistent=True) as tape:\n",
    "                wait_until_kl_inc = 10\n",
    "                if itr+epoch<wait_until_kl_inc:\n",
    "                    kl_coef = (itr+epoch)/wait_until_kl_inc\n",
    "                else:\n",
    "                    kl_coef=1\n",
    "                batch_dict = get_next_batch(data_obj[\"train_dataloader\"])\n",
    "                train_res = model_2.compute_all_losses(batch_dict, n_traj_samples = 1, kl_coef = kl_coef, mode=data_obj['mode'])\n",
    "                #rain_res[\"loss\"].backward()\n",
    "                #optimizer.step()\n",
    "            grad = tape.gradient( train_res[\"loss\"], model_2.variables)\n",
    "            grad_vars = zip(grad, model_2.trainable_variables)\n",
    "            optimizer_pois.apply_gradients(grad_vars)\n",
    "            loss_meter_pois.update(train_res['loss'].numpy())\n",
    "        print('IWAE loss: {1}\\nlog-likelihood: {2}\\nKL-divergence: {3}'.format(itr, train_res['loss'], \n",
    "                                                                       train_res['likelihood'], train_res[\"kl_first_p\"]))"
   ]
  },
  {
   "cell_type": "code",
   "execution_count": 65,
   "metadata": {},
   "outputs": [],
   "source": [
    "batch_dict = get_next_batch(data_obj[\"test_dataloader\"])\n",
    "pred_y_test= model_2.get_reconstruction(batch_dict[\"tp_to_predict\"], \n",
    "                        batch_dict[\"observed_data\"], \n",
    "                        batch_dict[\"observed_tp\"], \n",
    "                        n_traj_samples = 1,\n",
    "                        mode = 'extrap')\n",
    "pred_y= model_2.get_reconstruction(tf.concat([batch_dict[\"observed_tp\"],batch_dict[\"tp_to_predict\"]],0), \n",
    "                        batch_dict[\"observed_data\"], \n",
    "                        batch_dict[\"observed_tp\"], \n",
    "                        n_traj_samples = 1,\n",
    "                        mode = 'extrap')"
   ]
  },
  {
   "cell_type": "code",
   "execution_count": 66,
   "metadata": {},
   "outputs": [],
   "source": [
    "timestamps=tf.concat([batch_dict[\"observed_tp\"],batch_dict[\"tp_to_predict\"]],0).numpy().ravel()\n",
    "actual =  np.append(batch_dict[\"observed_data\"][0].numpy().ravel(), batch_dict[\"data_to_predict\"][0].numpy().ravel())\n",
    "obs = ['observed' if x in batch_dict[\"observed_tp\"].numpy().ravel() else 'unobserved' for x in timestamps]\n",
    "test = np.append([np.nan for _ in batch_dict[\"observed_tp\"].numpy().ravel()], pred_y_test[0].numpy().ravel())\n",
    "results = pd.DataFrame({'time':timestamps, \n",
    "                        'y':actual, \n",
    "                        'modelled':pred_y[0].numpy().ravel(),\n",
    "                        'predicted':test,\n",
    "                       'observed':obs})"
   ]
  },
  {
   "cell_type": "markdown",
   "metadata": {},
   "source": [
    "### Аналогично изобразим рез-ты, полученные уже этой сетью "
   ]
  },
  {
   "cell_type": "code",
   "execution_count": 83,
   "metadata": {
    "scrolled": true
   },
   "outputs": [
    {
     "data": {
      "image/png": "[encoded data removed]",
      "text/plain": [
       "<Figure size 457.225x360 with 1 Axes>"
      ]
     },
     "metadata": {},
     "output_type": "display_data"
    }
   ],
   "source": [
    "fg = sns.lmplot(x ='time',y='y', data=results,  palette=\"muted\", hue='observed', fit_reg=False )\n",
    "#fg.axes[0,0].plot(results.time, results.modelled, color='green')\n",
    "fg.axes[0,0].plot(results.time, results.predicted, color='yellow')\n",
    "plt.show()"
   ]
  },
  {
   "cell_type": "code",
   "execution_count": 105,
   "metadata": {},
   "outputs": [],
   "source": [
    "time_sampler_ = ts.TimeSampler(stop_time=100)\n",
    "irregular_time_samples_ = time_sampler_.sample_irregular_time(num_points=1000, keep_percentage=100)\n",
    "true_traj, sgn, err = timeseries.sample(irregular_time_samples_)"
   ]
  },
  {
   "cell_type": "code",
   "execution_count": 106,
   "metadata": {},
   "outputs": [
    {
     "data": {
      "text/plain": [
       "array([ 0.15903405,  0.19400702,  0.29368177,  0.35781176,  0.47958082,\n",
       "        0.52625678,  0.53255857,  0.77420043,  0.84258613,  0.99048785,\n",
       "        1.01482616,  1.11258011,  1.13799311,  1.35650651,  1.4084677 ,\n",
       "        1.52450838,  1.6010752 ,  1.72217044,  1.8671582 ,  1.9274634 ,\n",
       "        2.08589347,  2.10964519,  2.26500692,  2.28475345,  2.43516948,\n",
       "        2.46509428,  2.50117153,  2.71359795,  2.72370727,  2.89516029,\n",
       "        2.97451755,  3.11044488,  3.15263055,  3.18750525,  3.38299465,\n",
       "        3.48413321,  3.56088918,  3.67477754,  3.8421716 ,  3.9225179 ,\n",
       "        4.05747231,  4.13734103,  4.1816235 ,  4.21865   ,  4.35317176,\n",
       "        4.54880653,  4.56688241,  4.65130015,  4.74724177,  4.8272161 ,\n",
       "        4.9760168 ,  5.18233109,  5.2953402 ,  5.37169353,  5.37559576,\n",
       "        5.55543562,  5.6615514 ,  5.70973031,  5.78608911,  5.83657561,\n",
       "        6.10690362,  6.10963108,  6.14820124,  6.22300372,  6.46469265,\n",
       "        6.4721077 ,  6.67803606,  6.83911071,  6.95448401,  6.96236241,\n",
       "        6.98465161,  7.02271736,  7.15636018,  7.25286337,  7.52949461,\n",
       "        7.5522831 ,  7.67355668,  7.81137881,  7.83225596,  7.99875028,\n",
       "        8.04240528,  8.08445802,  8.1959965 ,  8.29841698,  8.34163476,\n",
       "        8.42187309,  8.61184213,  8.71573907,  8.77641919,  8.80051938,\n",
       "        9.01517641,  9.13898762,  9.16961951,  9.23474206,  9.35525616,\n",
       "        9.37076545,  9.60309698,  9.66333073,  9.80422659,  9.83495484,\n",
       "        9.98235756, 10.17764869, 10.19563919, 10.20042606, 10.28663819,\n",
       "       10.5089368 , 10.50922529, 10.67389431, 10.84783485, 10.90546623,\n",
       "       11.04296164, 11.07208639, 11.09755181, 11.24029032, 11.328387  ,\n",
       "       11.46516651, 11.63412955, 11.7336984 , 11.90258387, 11.95726733,\n",
       "       12.16020825, 12.16977772, 12.25861693, 12.3435351 , 12.40523184,\n",
       "       12.46713485, 12.56823832, 12.68408862, 12.7778502 , 12.90299766,\n",
       "       12.9865684 , 13.22692182, 13.25045057, 13.2696526 , 13.28402065,\n",
       "       13.49001219, 13.51648639, 13.66140009, 13.8335752 , 13.9956237 ,\n",
       "       14.02094757, 14.22840842, 14.25039123, 14.30048033, 14.46988496,\n",
       "       14.65033026, 14.76650732, 14.78401182, 14.91189821, 14.95684532,\n",
       "       15.01534232, 15.2035044 , 15.21315923, 15.41580147, 15.44919866,\n",
       "       15.54266714, 15.67296493, 15.68341231, 15.69785814, 15.93332693,\n",
       "       15.96326218, 16.10538371, 16.15861577, 16.26773707, 16.3002864 ,\n",
       "       16.49909239, 16.66148775, 16.7378235 , 16.88320039, 16.90954564,\n",
       "       17.02312932, 17.07868081, 17.18234427, 17.20438765, 17.39663109,\n",
       "       17.5279941 , 17.54527725, 17.63114457, 17.79171176, 17.94210026,\n",
       "       17.95274644, 18.00837533, 18.02984046, 18.20627148, 18.43332189,\n",
       "       18.47815767, 18.58533785, 18.64301277, 18.92249024, 18.93941339,\n",
       "       19.00950828, 19.17770299, 19.2050436 , 19.52505797, 19.55590224,\n",
       "       19.59419068, 19.63978478, 19.7728763 , 19.77542808, 19.78679761,\n",
       "       19.8471291 , 20.15673235, 20.24257726, 20.2561354 , 20.34138964,\n",
       "       20.54832397, 20.5755244 , 20.72138735, 20.92294234, 20.94825568,\n",
       "       20.9612377 , 21.00447376, 21.10059185, 21.42555392, 21.49885059,\n",
       "       21.50746294, 21.59076094, 21.60195596, 21.71844822, 21.81678118,\n",
       "       21.92438788, 22.20036331, 22.21762417, 22.23093224, 22.3193381 ,\n",
       "       22.53681782, 22.55019776, 22.58878987, 22.89159984, 22.91883391,\n",
       "       22.99722702, 23.07235184, 23.11847052, 23.36354406, 23.50506432,\n",
       "       23.60311817, 23.6043178 , 23.62785049, 23.77167786, 23.92888644,\n",
       "       23.98351619, 24.06937398, 24.26215636, 24.39352571, 24.47971466,\n",
       "       24.54910391, 24.57995223, 24.74360446, 24.78539846, 24.92482989,\n",
       "       24.99251841, 25.26004917, 25.27244501, 25.43336563, 25.45460981,\n",
       "       25.57833965, 25.7033463 , 25.7543153 , 25.7960859 , 25.83250083,\n",
       "       25.97346544, 26.16677857, 26.19616288, 26.36514411, 26.37603298,\n",
       "       26.46648257, 26.71749669, 26.8136854 , 26.82690011, 26.95268669,\n",
       "       27.04309382, 27.16299684, 27.19395211, 27.22370823, 27.37234583,\n",
       "       27.48906804, 27.49663328, 27.80629837, 27.84187697, 27.87386946,\n",
       "       28.0841868 , 28.13207154, 28.18767846, 28.46049436, 28.51761299,\n",
       "       28.54128524, 28.70929419, 28.81342861, 28.83924413, 28.87050001,\n",
       "       28.93929743, 29.00085223, 29.20592685, 29.4424411 , 29.45001667,\n",
       "       29.59183501, 29.6318552 , 29.64471038, 29.9250018 , 29.98190207,\n",
       "       30.06514974, 30.23347606, 30.34678686, 30.39628954, 30.45864895,\n",
       "       30.46495462, 30.59429397, 30.71843354, 30.85447431, 30.86424826,\n",
       "       30.89794568, 31.16106077, 31.2409728 , 31.30522341, 31.36302744,\n",
       "       31.501704  , 31.68083956, 31.75718257, 31.86811804, 31.92761274,\n",
       "       31.9639412 , 32.0868382 , 32.13392033, 32.29786622, 32.35454313,\n",
       "       32.61192103, 32.62707079, 32.64245109, 32.87494557, 32.96228781,\n",
       "       32.98617002, 33.02691687, 33.17330722, 33.33117978, 33.45548895,\n",
       "       33.56684787, 33.63047509, 33.75868358, 33.88296426, 33.98579634,\n",
       "       34.01370821, 34.06870172, 34.37462906, 34.39750968, 34.4187113 ,\n",
       "       34.65270947, 34.69261501, 34.7654534 , 34.91624827, 34.94888602,\n",
       "       34.97445609, 35.1021441 , 35.14540861, 35.28385761, 35.38656921,\n",
       "       35.49578681, 35.63421585, 35.7824368 , 35.86561248, 35.87449304,\n",
       "       35.88065711, 36.2518045 , 36.33461061, 36.46574123, 36.52659113,\n",
       "       36.5542387 , 36.57377081, 36.7199992 , 36.81424653, 36.89978152,\n",
       "       36.94271986, 37.05991735, 37.18992304, 37.43496035, 37.44263729,\n",
       "       37.53446874, 37.54842283, 37.57717955, 37.65718389, 37.77295877,\n",
       "       38.04048722, 38.08506313, 38.26719134, 38.33796845, 38.35078524,\n",
       "       38.47624675, 38.55937161, 38.7423383 , 38.83776579, 38.88452468,\n",
       "       39.01514156, 39.07245023, 39.28733594, 39.35118867, 39.41283694,\n",
       "       39.45526172, 39.53902686, 39.80009171, 40.09849711, 40.14411403,\n",
       "       40.14823854, 40.15513313, 40.18701364, 40.32397366, 40.4598077 ,\n",
       "       40.46086085, 40.59253748, 40.61763377, 40.90703961, 41.0156227 ,\n",
       "       41.09013785, 41.14863542, 41.33116159, 41.37431147, 41.4506534 ,\n",
       "       41.63132157, 41.6379804 , 41.72424025, 41.78411792, 41.82853499,\n",
       "       42.15030038, 42.16672055, 42.27074372, 42.39299615, 42.48102063,\n",
       "       42.57730624, 42.63992812, 42.73026385, 42.74209541, 42.98679666,\n",
       "       43.00297667, 43.10600653, 43.14220678, 43.23387505, 43.37752005,\n",
       "       43.59525421, 43.65598459, 43.85555731, 43.86165516, 43.94065463,\n",
       "       43.97155929, 44.08688059, 44.33919853, 44.42692151, 44.49636498,\n",
       "       44.5234238 , 44.526202  , 44.72655705, 44.77945945, 44.90891118,\n",
       "       44.91738565, 45.08754509, 45.10925042, 45.16568522, 45.49841606,\n",
       "       45.58197472, 45.60445167, 45.89657872, 45.91006004, 45.96826478,\n",
       "       46.12312563, 46.1573801 , 46.16552711, 46.29165882, 46.44730015,\n",
       "       46.52526431, 46.70535338, 46.74851228, 46.77546323, 46.92983141,\n",
       "       47.01352691, 47.11407088, 47.3880858 , 47.4230174 , 47.4365594 ,\n",
       "       47.53754663, 47.6787674 , 47.69992011, 47.84441423, 47.96624137,\n",
       "       48.05422311, 48.12550825, 48.21528663, 48.32733204, 48.44098385,\n",
       "       48.49233771, 48.61618183, 48.66191937, 48.89975611, 48.93758891,\n",
       "       49.04816017, 49.13261931, 49.28067562, 49.3196566 , 49.47418569,\n",
       "       49.47919131, 49.67374949, 49.71853805, 49.75729689, 50.04018451,\n",
       "       50.17562069, 50.19839561, 50.25509869, 50.40090976, 50.41431622,\n",
       "       50.50106696, 50.58348246, 50.7272248 , 50.77250482, 50.80401228,\n",
       "       50.97375334, 51.12456587, 51.22150554, 51.40698789, 51.46691781,\n",
       "       51.56747382, 51.69029708, 51.74060642, 51.85699907, 51.91532203,\n",
       "       51.94000523, 52.08692436, 52.22694787, 52.34988365, 52.47760677,\n",
       "       52.62732071, 52.63983645, 52.79470219, 52.80987676, 52.87221059,\n",
       "       53.02673189, 53.13973816, 53.31648323, 53.32684227, 53.40857978,\n",
       "       53.53103953, 53.77476692, 53.87851674, 53.93023085, 54.0306855 ,\n",
       "       54.06426502, 54.17695496, 54.29065139, 54.44885723, 54.46888461,\n",
       "       54.48729301, 54.68310635, 54.79211025, 54.91460111, 55.00411583,\n",
       "       55.12399796, 55.17202694, 55.21018304, 55.34033565, 55.39224196,\n",
       "       55.49309408, 55.531631  , 55.66664878, 55.83820562, 56.03628518,\n",
       "       56.05574446, 56.162126  , 56.26077966, 56.34339015, 56.39855869,\n",
       "       56.62793606, 56.67849523, 56.69118751, 56.72788909, 56.94111802,\n",
       "       57.20605044, 57.21495499, 57.22259895, 57.29415249, 57.48206458,\n",
       "       57.62136805, 57.64259025, 57.7173855 , 57.81492709, 57.93682291,\n",
       "       58.02383274, 58.17800263, 58.26036252, 58.2743082 , 58.44010055,\n",
       "       58.60427187, 58.63466872, 58.68066222, 58.95768416, 58.97052286,\n",
       "       59.09190314, 59.21541499, 59.29451306, 59.4367656 , 59.52377894,\n",
       "       59.59050245, 59.61056539, 59.69449225, 59.76243043, 59.99541261,\n",
       "       60.11405723, 60.13872681, 60.16481614, 60.26705491, 60.44000954,\n",
       "       60.54719999, 60.58469751, 60.70502234, 60.80780513, 60.86847479,\n",
       "       61.10425298, 61.21110469, 61.4060185 , 61.41625324, 61.47316768,\n",
       "       61.48889263, 61.62037122, 61.6783401 , 61.90937146, 61.96982153,\n",
       "       62.00359763, 62.17678573, 62.37565162, 62.42368674, 62.59530011,\n",
       "       62.63340482, 62.64056525, 62.74035829, 62.95912227, 63.00902953,\n",
       "       63.01647605, 63.10135208, 63.26554292, 63.3774348 , 63.46187164,\n",
       "       63.46580452, 63.60507818, 63.67266838, 63.79144647, 64.12062625,\n",
       "       64.16272032, 64.18525325, 64.24868928, 64.32934124, 64.44783625,\n",
       "       64.56082346, 64.59900815, 64.65363995, 64.89116446, 64.95710208,\n",
       "       65.21304207, 65.21901417, 65.395788  , 65.49358863, 65.50009372,\n",
       "       65.54336756, 65.78795213, 65.80136212, 65.8220397 , 65.95348001,\n",
       "       66.01435881, 66.11925332, 66.13072568, 66.41792023, 66.50735995,\n",
       "       66.51428817, 66.52001178, 66.5681665 , 66.79589799, 67.0584349 ,\n",
       "       67.06903548, 67.28914551, 67.34386355, 67.49499504, 67.51851024,\n",
       "       67.55720918, 67.61090238, 67.64667182, 67.83469519, 67.94429983,\n",
       "       68.02142059, 68.22324667, 68.29882391, 68.37075978, 68.45618565,\n",
       "       68.51891914, 68.7225718 , 68.76884026, 68.84481982, 68.96311451,\n",
       "       69.02749183, 69.10892023, 69.25304042, 69.33586248, 69.38693216,\n",
       "       69.55948711, 69.63423313, 69.81414061, 69.84025225, 70.00772726,\n",
       "       70.09386461, 70.26577113, 70.32350171, 70.33731261, 70.58244331,\n",
       "       70.63125084, 70.64657011, 70.75884612, 71.02262265, 71.09504643,\n",
       "       71.14047703, 71.23589613, 71.35547266, 71.38148175, 71.6013197 ,\n",
       "       71.64504137, 71.72191425, 71.79438353, 71.97180906, 72.01587028,\n",
       "       72.10119438, 72.20629438, 72.27252705, 72.31649306, 72.46223876,\n",
       "       72.61615196, 72.64249483, 72.75163987, 72.78375762, 72.98909182,\n",
       "       73.01402224, 73.09723427, 73.24074074, 73.37756099, 73.42783975,\n",
       "       73.45630741, 73.6671874 , 73.84372732, 73.84382048, 73.99686032,\n",
       "       74.00810153, 74.22312857, 74.23092268, 74.31930141, 74.49773081,\n",
       "       74.51418543, 74.55609316, 74.78121736, 74.79710056, 75.06088386,\n",
       "       75.13171853, 75.27417164, 75.30760635, 75.34679177, 75.39661934,\n",
       "       75.39861661, 75.76791721, 75.82306871, 75.99968793, 76.02409451,\n",
       "       76.17098656, 76.17670305, 76.19042883, 76.23824839, 76.4861721 ,\n",
       "       76.71641952, 76.79937644, 76.82283014, 76.89998834, 76.90825169,\n",
       "       77.04722237, 77.18627558, 77.22835114, 77.28385977, 77.47579425,\n",
       "       77.60945707, 77.7058443 , 77.74864213, 77.99588802, 78.04922431,\n",
       "       78.12364042, 78.14146854, 78.25816969, 78.42252428, 78.44978323,\n",
       "       78.48323952, 78.62306715, 78.68901627, 78.83446202, 78.88518147,\n",
       "       78.92240843, 79.0300263 , 79.34539145, 79.38419152, 79.39061794,\n",
       "       79.48485428, 79.62496977, 79.85099703, 79.85241588, 79.93071962,\n",
       "       79.97216107, 80.13691727, 80.15750853, 80.47247873, 80.48207933,\n",
       "       80.50200963, 80.63446732, 80.70187529, 80.77882221, 81.00064371,\n",
       "       81.16732562, 81.17582636, 81.22906722, 81.47145023, 81.50955388,\n",
       "       81.51967116, 81.65877661, 81.750918  , 81.9124536 , 81.91628598,\n",
       "       81.92170792, 82.20246056, 82.35954935, 82.46170794, 82.46617188,\n",
       "       82.6446351 , 82.64563317, 82.79002148, 82.88918036, 82.94801258,\n",
       "       83.006323  , 83.06988563, 83.18743466, 83.21820322, 83.58610579,\n",
       "       83.61555322, 83.68291596, 83.73184906, 83.74956105, 84.01380331,\n",
       "       84.10783601, 84.14286485, 84.16424092, 84.31831679, 84.45367824,\n",
       "       84.53018211, 84.69758796, 84.83063439, 84.86263445, 84.89121962,\n",
       "       85.11237036, 85.15596119, 85.24070859, 85.42451785, 85.42694112,\n",
       "       85.52598026, 85.56554165, 85.85023848, 85.91510413, 85.96143377,\n",
       "       86.23315564, 86.26679355, 86.307331  , 86.49195141, 86.52000978,\n",
       "       86.52035769, 86.75015635, 86.82933849, 86.91645187, 86.96744401,\n",
       "       87.09303635, 87.11024615, 87.22804787, 87.40415209, 87.51431698,\n",
       "       87.51815905, 87.73681348, 87.80080266, 87.83516133, 87.94253708,\n",
       "       88.0028364 , 88.1947291 , 88.37256486, 88.44265089, 88.6066206 ,\n",
       "       88.67187532, 88.75562361, 88.75692916, 88.8061262 , 88.80841012,\n",
       "       89.11798494, 89.16620382, 89.25892758, 89.30791394, 89.58241223,\n",
       "       89.62807696, 89.63539472, 89.64201832, 89.93048284, 89.93722532,\n",
       "       90.07137234, 90.09070685, 90.33644776, 90.43742619, 90.45641097,\n",
       "       90.47782756, 90.64038728, 90.65207307, 91.03251246, 91.072294  ,\n",
       "       91.11018098, 91.14514339, 91.33951512, 91.3811178 , 91.48494323,\n",
       "       91.56539773, 91.796084  , 92.01395988, 92.05360397, 92.11504903,\n",
       "       92.20552661, 92.22737133, 92.23601658, 92.29721571, 92.40108107,\n",
       "       92.64943998, 92.83522888, 92.9330385 , 92.96070354, 93.06017899,\n",
       "       93.15520791, 93.20885191, 93.26869588, 93.47514706, 93.63803278,\n",
       "       93.66299263, 93.71277308, 93.75541113, 93.95762237, 94.01272609,\n",
       "       94.0479915 , 94.04973516, 94.09359293, 94.54116052, 94.5498985 ,\n",
       "       94.6151098 , 94.72459337, 94.77400445, 94.87377567, 94.90699159,\n",
       "       94.9968305 , 95.13888881, 95.15893024, 95.32540486, 95.42280696,\n",
       "       95.555133  , 95.60687908, 95.71215594, 95.82344734, 95.88661655,\n",
       "       96.01460319, 96.10429244, 96.32833144, 96.38714245, 96.46867538,\n",
       "       96.6412716 , 96.66995593, 96.6793173 , 96.91666674, 97.03012848,\n",
       "       97.08367811, 97.21314474, 97.2874962 , 97.3444851 , 97.51706809,\n",
       "       97.61051483, 97.68266918, 97.77154416, 97.93246815, 97.94242842,\n",
       "       98.06323567, 98.23490457, 98.29682326, 98.3423076 , 98.53503644,\n",
       "       98.58841988, 98.59974133, 98.83476939, 98.84065786, 98.98115685,\n",
       "       99.0564955 , 99.1396989 , 99.31254688, 99.46243286, 99.52224192,\n",
       "       99.54903469, 99.80900307, 99.83604753, 99.8713742 , 99.97067731])"
      ]
     },
     "execution_count": 106,
     "metadata": {},
     "output_type": "execute_result"
    }
   ],
   "source": [
    "irregular_time_samples_"
   ]
  },
  {
   "cell_type": "code",
   "execution_count": 107,
   "metadata": {},
   "outputs": [],
   "source": [
    "new_df = pd.DataFrame({'time':irregular_time_samples_, \n",
    "                        'y':true_traj+1., \n",
    "                        'predicted':np.append([np.nan for _ in irregular_time_samples_[irregular_time_samples_<=10.]],model_1.get_reconstruction(tf.constant(irregular_time_samples_[irregular_time_samples_>10.],tf.float32), \n",
    "                        batch_dict[\"observed_data\"], \n",
    "                        batch_dict[\"observed_tp\"], \n",
    "                        n_traj_samples = 1,\n",
    "                        mode = 'extrap')[0].numpy().ravel())})"
   ]
  },
  {
   "cell_type": "code",
   "execution_count": 114,
   "metadata": {},
   "outputs": [
    {
     "data": {
      "image/png": "[encoded data removed]",
      "text/plain": [
       "<Figure size 432x288 with 1 Axes>"
      ]
     },
     "metadata": {},
     "output_type": "display_data"
    }
   ],
   "source": [
    "fg = sns.lineplot(x ='time',y='y', data=new_df,  palette=\"muted\")\n",
    "#fg.axes[0,0].plot(results.time, results.modelled, color='green')\n",
    "fg.plot(new_df.time, new_df.predicted, color='green')\n",
    "fg.plot(new_df.time, np.append([np.nan for _ in irregular_time_samples_[irregular_time_samples_<=10.]],model_2.get_reconstruction(tf.constant(irregular_time_samples_[irregular_time_samples_>10.],tf.float32), \n",
    "                        batch_dict[\"observed_data\"], \n",
    "                        batch_dict[\"observed_tp\"], \n",
    "                        n_traj_samples = 1,\n",
    "                        mode = 'extrap')[0].numpy().ravel()), color='red')\n",
    "plt.show()"
   ]
  },
  {
   "cell_type": "markdown",
   "metadata": {},
   "source": [
    "### Выводы: модели хороши для предсказывания на краткий промежуток, иначе возростает мера неопределенности выбора точек (исходя из того, что модель, собственно говоря, наполовину вероятностная) + использование явных методов численного решения ДУ может сказаться на высокой осцилляции данных (красный график). Вторая версия - вторая модель недообучена и требует большего количества итераций. "
   ]
  },
  {
   "cell_type": "code",
   "execution_count": 71,
   "metadata": {},
   "outputs": [],
   "source": [
    "from sklearn.metrics import r2_score, mean_squared_error"
   ]
  },
  {
   "cell_type": "code",
   "execution_count": 85,
   "metadata": {},
   "outputs": [
    {
     "data": {
      "text/plain": [
       "0.734618753127972"
      ]
     },
     "execution_count": 85,
     "metadata": {},
     "output_type": "execute_result"
    }
   ],
   "source": [
    "r2_score(batch_dict[\"data_to_predict\"][0].numpy().ravel(), model_1.get_reconstruction(batch_dict[\"tp_to_predict\"], \n",
    "                        batch_dict[\"observed_data\"], \n",
    "                        batch_dict[\"observed_tp\"], \n",
    "                        n_traj_samples = 1,\n",
    "                        mode = 'extrap')[0].numpy().ravel())"
   ]
  },
  {
   "cell_type": "code",
   "execution_count": 86,
   "metadata": {},
   "outputs": [
    {
     "data": {
      "text/plain": [
       "0.12597847"
      ]
     },
     "execution_count": 86,
     "metadata": {},
     "output_type": "execute_result"
    }
   ],
   "source": [
    "mean_squared_error(model_1.get_reconstruction(batch_dict[\"tp_to_predict\"], \n",
    "                        batch_dict[\"observed_data\"], \n",
    "                        batch_dict[\"observed_tp\"], \n",
    "                        n_traj_samples = 1,\n",
    "                        mode = 'extrap')[0].numpy().ravel(), batch_dict[\"data_to_predict\"][0].numpy().ravel())"
   ]
  }
 ],
 "metadata": {
  "kernelspec": {
   "display_name": "Python 3.7.5 64-bit ('machine-learning': conda)",
   "language": "python",
   "name": "python37564bitmachinelearningcondaa1b99042c08543deac48aeb31ff9f6e5"
  },
  "language_info": {
   "codemirror_mode": {
    "name": "ipython",
    "version": 3
   },
   "file_extension": ".py",
   "mimetype": "text/x-python",
   "name": "python",
   "nbconvert_exporter": "python",
   "pygments_lexer": "ipython3",
   "version": "3.7.5"
  }
 },
 "nbformat": 4,
 "nbformat_minor": 2
}
